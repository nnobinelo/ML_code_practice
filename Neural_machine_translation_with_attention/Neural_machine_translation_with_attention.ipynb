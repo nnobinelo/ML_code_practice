{
 "cells": [
  {
   "cell_type": "code",
   "execution_count": 7,
   "id": "911e3f48-3489-49f9-8a38-8aa4fc095895",
   "metadata": {},
   "outputs": [],
   "source": [
    "import numpy as np\n",
    "\n",
    "import typing\n",
    "from typing import Any, Tuple\n",
    "\n",
    "import tensorflow as tf\n",
    "import tensorflow_text as tf_text\n",
    "\n",
    "import matplotlib.pyplot as plt\n",
    "import matplotlib.ticker as ticker\n",
    "\n",
    "from pathlib import Path"
   ]
  },
  {
   "cell_type": "markdown",
   "id": "4f8d10ba-685e-40a2-81d6-042f8d39d361",
   "metadata": {},
   "source": [
    "# Setup (Shape checker)"
   ]
  },
  {
   "cell_type": "code",
   "execution_count": 517,
   "id": "cc47f9c1-ec11-4f74-8b5f-f08ee5a75e88",
   "metadata": {},
   "outputs": [],
   "source": [
    "\"\"\"\n",
    "This tutorial uses a lot of low level API's where it's easy to get shapes wrong. This class is used to check shapes throughout the tutorial.\n",
    "\"\"\"\n",
    "\n",
    "class ShapeChecker():\n",
    "    def __init__(self):\n",
    "        # Keep a cache of every axis-name seen\n",
    "        self.shapes = {}\n",
    "\n",
    "    def __call__(self, tensor, names, broadcast=False):\n",
    "        if not tf.executing_eagerly():\n",
    "            return\n",
    "\n",
    "        if isinstance(names, str):\n",
    "            names = (names,)\n",
    "\n",
    "        shape = tf.shape(tensor)\n",
    "        rank = tf.rank(tensor)\n",
    "\n",
    "        if rank != len(names):\n",
    "            raise ValueError(f'Rank mismatch:\\n'\n",
    "                             f'    found {rank}: {shape.numpy()}\\n'\n",
    "                             f'    expected {len(names)}: {names}\\n')\n",
    "\n",
    "        for i, name in enumerate(names):\n",
    "            if isinstance(name, int):\n",
    "                old_dim = name\n",
    "            else:\n",
    "                old_dim = self.shapes.get(name, None)\n",
    "            new_dim = shape[i]\n",
    "\n",
    "            if (broadcast and new_dim == 1):\n",
    "                continue\n",
    "\n",
    "            if old_dim is None:\n",
    "                # If the axis name is new, add its length to the cache.\n",
    "                self.shapes[name] = new_dim\n",
    "                continue\n",
    "\n",
    "            if new_dim != old_dim:\n",
    "                raise ValueError(f\"Shape mismatch for dimension: '{name}'\\n\"\n",
    "                                 f\"    found: {new_dim}\\n\"\n",
    "                                 f\"    expected: {old_dim}\\n\")"
   ]
  },
  {
   "cell_type": "markdown",
   "id": "89957a65-5fe5-4548-8913-f3d263f8cc12",
   "metadata": {},
   "source": [
    "# The data"
   ]
  },
  {
   "cell_type": "code",
   "execution_count": 188,
   "id": "e35cf4cf-a5f7-4c0f-a15b-6008dd8234aa",
   "metadata": {},
   "outputs": [],
   "source": [
    "def load_data(path):\n",
    "    text = path.read_text(encoding='utf-8')\n",
    "\n",
    "    lines = text.splitlines()\n",
    "    pairs = [line.split('\\t') for line in lines]\n",
    "\n",
    "    inp = [inp for targ, inp, attribution in pairs]\n",
    "    targ = [targ for targ, inp, attribution in pairs]\n",
    "\n",
    "    return targ, inp"
   ]
  },
  {
   "cell_type": "code",
   "execution_count": 13,
   "id": "77df4e81-e4ae-43a2-bcbc-06c480e6170a",
   "metadata": {},
   "outputs": [],
   "source": [
    "\"\"\"\n",
    "translations from http://www.manythings.org/anki/http://www.manythings.org/anki/\n",
    "\"\"\"\n",
    "\n",
    "path_to_raw_translations = Path(\"./spa-eng/spa.txt\")\n",
    "targ, inp = load_data(path_to_raw_translations)"
   ]
  },
  {
   "cell_type": "code",
   "execution_count": 21,
   "id": "3115eebd-7158-4d5a-bd8b-08b7c6424bc7",
   "metadata": {},
   "outputs": [
    {
     "data": {
      "text/plain": [
       "'Un día, me desperté y vi que Dios me había puesto pelo en la cara. Me lo afeité. Al día siguiente, vi que Dios me lo había vuelto a poner en la cara, así que me lo afeité otra vez. Al tercer día, cuando vi que Dios me había puesto pelo en la cara de nuevo, decidí que Dios se saliera con la suya. Por eso tengo barba.'"
      ]
     },
     "execution_count": 21,
     "metadata": {},
     "output_type": "execute_result"
    }
   ],
   "source": [
    "inp[-1]"
   ]
  },
  {
   "cell_type": "code",
   "execution_count": 22,
   "id": "21559cb5-d0cb-4ef9-8442-4fdb95d5633e",
   "metadata": {},
   "outputs": [
    {
     "data": {
      "text/plain": [
       "\"One day, I woke up to find that God had put hair on my face. I shaved it off. The next day, I found that God had put it back on my face, so I shaved it off again. On the third day, when I found that God had put hair back on my face again, I decided to let God have his way. That's why I have a beard.\""
      ]
     },
     "execution_count": 22,
     "metadata": {},
     "output_type": "execute_result"
    }
   ],
   "source": [
    "targ[-1]"
   ]
  },
  {
   "cell_type": "code",
   "execution_count": 48,
   "id": "1e05dba3-c071-4d48-9405-d83dd671e56c",
   "metadata": {},
   "outputs": [
    {
     "name": "stdout",
     "output_type": "stream",
     "text": [
      "(b'Alemania alguna vez fue aliado de Italia.', b'Germany was once an ally of Italy.')\n",
      "(b'\\xc3\\x89l habla fluidamente el japon\\xc3\\xa9s.', b\"He's fluent in Japanese.\")\n",
      "(b'D\\xc3\\xa9jenme decirles una cosa.', b'Let me tell you something.')\n",
      "(b'T\\xc3\\xba primero.', b'You go first.')\n",
      "(b'En esta habitaci\\xc3\\xb3n hace mucho fr\\xc3\\xado.', b\"It's really cold in this room.\")\n",
      "(b'Nunca me cont\\xc3\\xb3 usted nada sobre el accidente.', b'You never told me anything about the accident.')\n",
      "(b'Me gustan las pel\\xc3\\xadculas.', b'I like movies.')\n",
      "(b'\\xc2\\xbfQu\\xc3\\xa9 sabes sobre \\xc3\\xa9l?', b'What do you know about him?')\n",
      "(b'\\xc2\\xbfEs su libro?', b'Is it your book?')\n",
      "(b'Tom sigue diciendo que es inocente.', b\"Tom keeps saying he's innocent.\")\n"
     ]
    }
   ],
   "source": [
    "\"\"\"\n",
    "From these arrays of strings you can create a tf.data.Dataset of strings that shuffles and batches them efficiently:\n",
    "\"\"\"\n",
    "\n",
    "BATCH_SIZE = 64\n",
    "BUFFER_SIZE = len(inp)\n",
    "\n",
    "dataset = tf.data.Dataset.from_tensor_slices((inp, targ)).shuffle(BUFFER_SIZE) # from_tensor_slices() performs very similar to zip() when used like this\n",
    "for tran_pair in list(dataset.as_numpy_iterator())[:10]:\n",
    "    print(tran_pair)\n",
    "\n",
    "dataset = dataset.batch(BATCH_SIZE)"
   ]
  },
  {
   "cell_type": "code",
   "execution_count": 63,
   "id": "89172a0a-ab41-4c86-8bc2-57e524d8a002",
   "metadata": {},
   "outputs": [
    {
     "name": "stdout",
     "output_type": "stream",
     "text": [
      "tf.Tensor(\n",
      "[b'Lucha como un hombre.' b'Tom y Mary cogieron una galleta cada uno.'\n",
      " b'Ense\\xc3\\xb1arle a los ni\\xc3\\xb1os es m\\xc3\\xa1s f\\xc3\\xa1cil que a los adultos.'\n",
      " b'\\xc2\\xbfNo tendr\\xc3\\xa1s una aguja y algo de hilo?'\n",
      " b'Tengo que limpiar el aseo.'\n",
      " b'Tom est\\xc3\\xa1 locamente enamorado de Mary.'\n",
      " b'\\xc3\\x89l hizo el trabajo en dos d\\xc3\\xadas.' b'Est\\xc3\\xa1s loco.'\n",
      " b'Ella no se present\\xc3\\xb3 en la fiesta ayer.'\n",
      " b'Me pregunto que tienen en com\\xc3\\xban todos ellos.'], shape=(10,), dtype=string)\n",
      "\n",
      "tf.Tensor(\n",
      "[b'Fight like a man.' b'Tom and Mary each took one cookie.'\n",
      " b\"It's easier to teach children than adults.\"\n",
      " b\"Don't you have a needle and some thread?\"\n",
      " b'I have to clean the bathroom.'\n",
      " b'Tom is head over heels in love with Mary.'\n",
      " b'He did the work in two days.' b\"You're insane.\"\n",
      " b\"She didn't show up at the party yesterday.\"\n",
      " b'I wonder what all of them have in common.'], shape=(10,), dtype=string)\n"
     ]
    }
   ],
   "source": [
    "for example_input_batch, example_target_batch in dataset.take(1):\n",
    "    print(example_input_batch[:10])\n",
    "    print()\n",
    "    print(example_target_batch[:10])"
   ]
  },
  {
   "cell_type": "code",
   "execution_count": 50,
   "id": "48f6607f-f78c-4196-b602-433636ab8511",
   "metadata": {},
   "outputs": [
    {
     "name": "stdout",
     "output_type": "stream",
     "text": [
      "b'\\xc2\\xbfTodav\\xc3\\xada est\\xc3\\xa1 en casa?'\n",
      "b'\\xc2\\xbfTodavi\\xcc\\x81a esta\\xcc\\x81 en casa?'\n"
     ]
    }
   ],
   "source": [
    "\"\"\"\n",
    "Standardization\n",
    "The model is dealing with multilingual text with a limited vocabulary. So it will be important to standardize the input text.\n",
    "\n",
    "The first step is Unicode normalization to split accented characters and replace compatibility characters with their ASCII equivalents.\n",
    "\n",
    "The tensorflow_text package contains a unicode normalize operation:\n",
    "\"\"\"\n",
    "\n",
    "example_inp = tf.constant(\"¿Todavía está en casa?\")\n",
    "print(example_inp.numpy())\n",
    "print(tf_text.normalize_utf8(example_inp, \"NFKD\").numpy()) # notice how chars like 'í' are replaced with some combo of unicode hex and 'i'. "
   ]
  },
  {
   "cell_type": "code",
   "execution_count": 54,
   "id": "4ce93b91-59ef-41db-90ea-0d62a0cdc732",
   "metadata": {},
   "outputs": [],
   "source": [
    "def tf_lower_and_split_punct(text):\n",
    "    # Split accented chars from their accents, and convert text to lowercase.\n",
    "    text = tf_text.normalize_utf8(text, \"NFKD\")\n",
    "    text = tf.strings.lower(text)\n",
    "    \n",
    "    # Keep space, a to z, and select punctuation chars.\n",
    "    text = tf.strings.regex_replace(text, \"[^ a-z.?!,¿]\", \"\")\n",
    "    \n",
    "    # Add spaces around punctuation (* so punctuation is considered as their own unique tokens instead of unique words, e.g. \"done?\" to [\"done\", \"?\"] instead of [\"done?\"]).\n",
    "    text = tf.strings.regex_replace(text, \"[.?!,¿]\", r\" \\0 \")\n",
    "    \n",
    "    # Strip whitespace.\n",
    "    text = tf.strings.strip(text)\n",
    "    \n",
    "     # Insert sos and eos tokens.\n",
    "    text = tf.strings.join([\"[START]\", text, \"[END]\"], separator=\" \")\n",
    "    return text"
   ]
  },
  {
   "cell_type": "code",
   "execution_count": 58,
   "id": "5aa83d9f-fb9a-47c5-b82f-8021baf8efb6",
   "metadata": {},
   "outputs": [
    {
     "name": "stdout",
     "output_type": "stream",
     "text": [
      "¿Todavía está en casa?\n",
      "[START] ¿ todavia esta en casa ? [END]\n"
     ]
    }
   ],
   "source": [
    "print(example_inp.numpy().decode())\n",
    "print(tf_lower_and_split_punct(example_inp).numpy().decode())"
   ]
  },
  {
   "cell_type": "code",
   "execution_count": 142,
   "id": "bd09dacc-d984-44af-aac2-4d211669f493",
   "metadata": {},
   "outputs": [
    {
     "name": "stdout",
     "output_type": "stream",
     "text": [
      "spanish vocab size: 26584 words\n",
      "english vocab size: 14134 words\n"
     ]
    }
   ],
   "source": [
    "span_vocab = set()\n",
    "eng_vocab = set()\n",
    "for x, y in dataset:\n",
    "    x = tf_lower_and_split_punct(x)\n",
    "    for seq in x.numpy():\n",
    "        for tok in seq.decode().split():\n",
    "            span_vocab.add(tok)\n",
    "    y = tf_lower_and_split_punct(y)\n",
    "    for seq in y.numpy():\n",
    "        for tok in seq.decode().split():\n",
    "            eng_vocab.add(tok)\n",
    "\n",
    "print(f\"spanish vocab size: {len(span_vocab)} tokens\")\n",
    "print(f\"english vocab size: {len(eng_vocab)} tokens\")"
   ]
  },
  {
   "cell_type": "code",
   "execution_count": 160,
   "id": "0305d362-5b68-49af-8817-a140a5b28770",
   "metadata": {},
   "outputs": [],
   "source": [
    "\"\"\"\n",
    "Text Vectorization\n",
    "This standardization function will be wrapped up in a tf.keras.layers.TextVectorization layer which will handle the vocabulary extraction and conversion of input text to sequences of tokens.\n",
    "\"\"\"\n",
    "\n",
    "max_vocab_size = 5000\n",
    "\n",
    "input_text_pre_processor = tf.keras.layers.TextVectorization(\n",
    "    standardize=tf_lower_and_split_punct,\n",
    "    max_tokens=max_vocab_size\n",
    ")\n",
    "\n",
    "output_text_pre_processor = tf.keras.layers.TextVectorization(\n",
    "    standardize=tf_lower_and_split_punct,\n",
    "    max_tokens=max_vocab_size\n",
    ")"
   ]
  },
  {
   "cell_type": "code",
   "execution_count": 161,
   "id": "f64ebcfe-588c-49d4-a73b-88075e8e1332",
   "metadata": {
    "scrolled": true,
    "tags": []
   },
   "outputs": [],
   "source": [
    "\"\"\"\n",
    "The TextVectorization layer and many other preprocessing layers have an adapt method. \n",
    "This method reads one epoch of the training data, and works a lot like Model.fix. \n",
    "This adapt method initializes the layer based on the data. Here it determines the vocabulary:\n",
    "\"\"\"\n",
    "\n",
    "input_text_pre_processor.adapt(inp)\n",
    "output_text_pre_processor.adapt(targ)"
   ]
  },
  {
   "cell_type": "code",
   "execution_count": 162,
   "id": "85659e24-1350-49c7-9d43-6ed910200b66",
   "metadata": {},
   "outputs": [
    {
     "name": "stdout",
     "output_type": "stream",
     "text": [
      "['', '[UNK]', '[START]', '[END]', '.', 'que', 'de', 'el', 'no', 'tom', 'a']\n",
      "['', '[UNK]', '[START]', '[END]', '.', 'i', 'the', 'to', 'you', 'tom', 'a']\n"
     ]
    }
   ],
   "source": [
    "# 1st few words from learned vocabs of preprocessing layers\n",
    "print(input_text_pre_processor.get_vocabulary()[:11])\n",
    "print(output_text_pre_processor.get_vocabulary()[:11])"
   ]
  },
  {
   "cell_type": "code",
   "execution_count": 166,
   "id": "553aa25d-69ed-4f40-b923-76af87189f8c",
   "metadata": {},
   "outputs": [
    {
     "data": {
      "text/plain": [
       "<tf.Tensor: shape=(5, 17), dtype=int64, numpy=\n",
       "array([[   2, 3575,   38,   16,  160,    4,    3,    0,    0,    0,    0,\n",
       "           0,    0,    0,    0,    0,    0],\n",
       "       [   2,    9,   34,   30, 3962,   23,    1,  242,  185,    4,    3,\n",
       "           0,    0,    0,    0,    0,    0],\n",
       "       [   2,    1,   10,   25,  189,   14,   35,  304,    5,   10,   25,\n",
       "        2998,    4,    3,    0,    0,    0],\n",
       "       [   2,   13,    8, 1534,   23, 4207,   34,   59,    6, 4106,   12,\n",
       "           3,    0,    0,    0,    0,    0],\n",
       "       [   2,   47,    5, 1120,    7,    1,    4,    3,    0,    0,    0,\n",
       "           0,    0,    0,    0,    0,    0]], dtype=int64)>"
      ]
     },
     "execution_count": 166,
     "metadata": {},
     "output_type": "execute_result"
    }
   ],
   "source": [
    "\"\"\"\n",
    "Now these layers can convert a batch of strings into a batch of token IDs:\n",
    "\"\"\"\n",
    "\n",
    "example_tokens = input_text_pre_processor(example_input_batch)\n",
    "example_tokens[:5, :20]"
   ]
  },
  {
   "cell_type": "code",
   "execution_count": 176,
   "id": "e195a725-302b-402b-bd91-0609928e1fd1",
   "metadata": {},
   "outputs": [
    {
     "name": "stdout",
     "output_type": "stream",
     "text": [
      "['' '[UNK]' '[START]' ... 'compartio' 'comparado' 'comere']\n",
      "\n",
      "[   2 3575   38   16  160    4    3    0    0    0    0    0    0    0\n",
      "    0    0    0]\n",
      "\n",
      "[START] lucha como un hombre . [END]          \n"
     ]
    }
   ],
   "source": [
    "\"\"\"\n",
    "The get_vocabulary method can be used to convert token IDs back to text since token IDs correspond to their idx in vocab:\n",
    "\"\"\"\n",
    "\n",
    "input_vocab = np.array(input_text_pre_processor.get_vocabulary())\n",
    "tokens = input_vocab[example_tokens[0].numpy()]\n",
    "print(input_vocab)\n",
    "print()\n",
    "print(example_tokens[0].numpy())\n",
    "print()\n",
    "print(\" \".join(tokens))"
   ]
  },
  {
   "cell_type": "code",
   "execution_count": 185,
   "id": "735604ed-3067-4710-aa7a-bf1bc48fcbed",
   "metadata": {},
   "outputs": [
    {
     "data": {
      "text/plain": [
       "Text(0.5, 1.0, 'Mask')"
      ]
     },
     "execution_count": 185,
     "metadata": {},
     "output_type": "execute_result"
    },
    {
     "data": {
      "image/png": "[encoded data removed]",
      "text/plain": [
       "<Figure size 432x288 with 2 Axes>"
      ]
     },
     "metadata": {
      "needs_background": "light"
     },
     "output_type": "display_data"
    }
   ],
   "source": [
    "\"\"\"\n",
    "The returned token IDs are zero-padded. This can easily be turned into a mask,\n",
    "where each row is a sequence and each column represents a token in the sentence\n",
    "in the form of its ID value.\n",
    "\"\"\"\n",
    "\n",
    "plt.subplot(1, 2, 1)\n",
    "plt.pcolormesh(example_tokens)\n",
    "plt.title('Token IDs')\n",
    "\n",
    "plt.subplot(1, 2, 2)\n",
    "plt.pcolormesh(example_tokens != 0)\n",
    "plt.title('Mask')"
   ]
  },
  {
   "cell_type": "code",
   "execution_count": 186,
   "id": "676c1e9c-4ace-4b9a-80ed-2b515c1c43ef",
   "metadata": {},
   "outputs": [
    {
     "data": {
      "text/plain": [
       "<tf.Tensor: shape=(64, 17), dtype=int64, numpy=\n",
       "array([[   2, 3575,   38, ...,    0,    0,    0],\n",
       "       [   2,    9,   34, ...,    0,    0,    0],\n",
       "       [   2,    1,   10, ...,    0,    0,    0],\n",
       "       ...,\n",
       "       [   2,    8,   18, ...,    0,    0,    0],\n",
       "       [   2,   39,   46, ...,    0,    0,    0],\n",
       "       [   2,  363, 3995, ...,    0,    0,    0]], dtype=int64)>"
      ]
     },
     "execution_count": 186,
     "metadata": {},
     "output_type": "execute_result"
    }
   ],
   "source": [
    "example_tokens"
   ]
  },
  {
   "cell_type": "markdown",
   "id": "45d9c0e1-a2f3-4a6e-a3ca-995a5d8a83d1",
   "metadata": {},
   "source": [
    "# The encoder/decoder model"
   ]
  },
  {
   "cell_type": "code",
   "execution_count": 241,
   "id": "ea2af16e-9564-4ae4-aa42-ed53ae785f77",
   "metadata": {},
   "outputs": [],
   "source": [
    "embedding_dim = 256\n",
    "layer_units = 1024 # num of units for encoder, attention, and decoder layers"
   ]
  },
  {
   "cell_type": "code",
   "execution_count": 356,
   "id": "c15f82fd-8e5c-4af6-aa5e-ee2b1ba593e3",
   "metadata": {},
   "outputs": [],
   "source": [
    "\"\"\"\n",
    "The encoder\n",
    "Start by building the encoder, the blue part of the diagram above.\n",
    "\n",
    "The encoder:\n",
    "\n",
    "1) Takes a list of token IDs (from input_text_processor).\n",
    "2) Looks up an embedding vector for each token (Using a layers.Embedding), meaning we are working at word lvl granularity.\n",
    "3) Processes the embeddings into a new sequence (Using a layers.GRU).\n",
    "4) Returns:\n",
    "        - The processed sequence. This will be passed to the attention head.\n",
    "        - The internal state. This will be used to initialize the decoder\n",
    "\"\"\"\n",
    "\n",
    "# For good explaination of diff between RNN layers, cells, and units as well as purpose of return_sequences, and return_state, visit:\n",
    "# - https://datascience.stackexchange.com/questions/12964/what-is-the-meaning-of-the-number-of-units-in-the-lstm-cell\n",
    "# - https://www.dlology.com/blog/how-to-use-return_state-or-return_sequences-in-keras/\n",
    "\n",
    "class Encoder(tf.keras.layers.Layer):\n",
    "    def __init__(self, input_vocab_size, embedding_dim, enc_units):\n",
    "        super(Encoder, self).__init__()\n",
    "        self.input_vocab_size = input_vocab_size\n",
    "        self.enc_units = enc_units\n",
    "        \n",
    "        # The embedding layer converts tokens to vectors\n",
    "        self.embedding = tf.keras.layers.Embedding(\n",
    "            input_dim=self.input_vocab_size,\n",
    "            output_dim=embedding_dim\n",
    "        )\n",
    "        \n",
    "        # The GRU RNN layer processes token vectors sequentially.\n",
    "        self.gru = tf.keras.layers.GRU(\n",
    "            units=self.enc_units,\n",
    "            # Return the process sequence and the internal state\n",
    "            return_sequences=True,\n",
    "            return_state=True,\n",
    "            recurrent_initializer=\"glorot_uniform\"\n",
    "        )\n",
    "    \n",
    "    def call(self, tokens, state=None):\n",
    "        shape_checker = ShapeChecker()\n",
    "        \n",
    "        # 1. List of token IDs.\n",
    "        shape_checker(tokens, (\"batch\", \"enc_idx\"))\n",
    "        \n",
    "        # 2. The embedding layer looks up the embedding for each token.\n",
    "        vectors = self.embedding(tokens)\n",
    "        shape_checker(vectors, (\"batch\", \"enc_idx\", \"embedding_dim\"))\n",
    "        \n",
    "        # 3. The GRU processes the seq of embeddings.\n",
    "        #       output (hidden states) shape: (batch, seq_len, enc_units)\n",
    "        #       state (cell state) shape: (batch, enc_units)        \n",
    "        enc_hidden_states, enc_cell_states = self.gru(vectors, initial_state=state)\n",
    "        shape_checker(enc_hidden_states, (\"batch\", \"enc_idx\", \"enc_hidden_state_cells\"))\n",
    "        shape_checker(enc_cell_states, (\"batch\", \"enc_hidden_state_cells\"))\n",
    "        \n",
    "        # 4. Returns the new sequence and its state.\n",
    "        return enc_hidden_states, enc_cell_states"
   ]
  },
  {
   "cell_type": "code",
   "execution_count": 357,
   "id": "c3f7a1e9-48f3-4641-912a-efe262cc81b2",
   "metadata": {},
   "outputs": [
    {
     "name": "stdout",
     "output_type": "stream",
     "text": [
      "Example:\n",
      "------------------------------\n",
      "Input batch, shape (batch): (64,)\n",
      "Input batch tokens, shape (batch, seq_len): (64, 17)\n",
      "\n",
      "Encoder output, shape (batch, seq_len, enc_units_per_layer): (64, 17, 1024)\n",
      "Encoder state, shape (batch, enc_units_per_layer): (64, 1024)\n"
     ]
    }
   ],
   "source": [
    "\"\"\"\n",
    "Testing the encoder\n",
    "\"\"\"\n",
    "\n",
    "# Convert the input text to tokens.\n",
    "example_input_tokens = input_text_pre_processor(example_input_batch)\n",
    "# Encode the input sequence.\n",
    "encoder = Encoder(\n",
    "    input_vocab_size=max_vocab_size,\n",
    "    embedding_dim=embedding_dim,\n",
    "    enc_units=layer_units\n",
    ")\n",
    "\n",
    "example_enc_output, example_enc_state = encoder(examples_tokens)\n",
    "\n",
    "print(f'Example:\\n------------------------------\\nInput batch, shape (batch): {example_input_batch.shape}')\n",
    "print(f'Input batch tokens, shape (batch, seq_len): {example_input_tokens.shape}')\n",
    "print(f'\\nEncoder output, shape (batch, seq_len, enc_units_per_layer): {example_enc_output.shape}')\n",
    "print(f'Encoder state, shape (batch, enc_units_per_layer): {example_enc_state.shape}')"
   ]
  },
  {
   "cell_type": "code",
   "execution_count": 311,
   "id": "28a92859-c148-493f-b34f-cc227ad22aef",
   "metadata": {},
   "outputs": [],
   "source": [
    "\"\"\"\n",
    "Attention Head\n",
    "\n",
    "The decoder uses attention to selectively focus on parts of the input sequence. \n",
    "The attention takes a sequence of vectors as input for each example and returns an \"attention\" vector for each example. \n",
    "This attention layer is similar to a layers.GlobalAveragePoling1D but the attention layer performs a weighted average.\n",
    "\n",
    "The equations:\n",
    "- (eq 4) Calculates the energy scores w/ compatibility function which will be Bahdanau's additive compatibility func (a FFNN basically, also a combine compatibility approach).\n",
    "- (eq 1) Calculates the attention weights, [alpha]_ts, as a softmax across the encoder's output sequence.\n",
    "- (eq 2) Calculates the context vector as the weighted sum of the encoder outputs.\n",
    "\"\"\"\n",
    "\n",
    "class BahdanuaAttention(tf.keras.layers.Layer):\n",
    "    def __init__(self, additive_attn_units):\n",
    "        super(BahdanuaAttention, self).__init__()\n",
    "        \n",
    "        # For eq. 4, additive compatibility func\n",
    "        self.W1 = tf.keras.layers.Dense(additive_attn_units, use_bias=False)\n",
    "        self.W2 = tf.keras.layers.Dense(additive_attn_units, use_bias=False)  \n",
    "        \n",
    "        self.additiveAttention = tf.keras.layers.AdditiveAttention()\n",
    "    \n",
    "    # Remember key and value are the same in Bahdanua attention based Seq2Seq model,\n",
    "    # however within this TF implementation the key (\"W2 @ hs\") is put into a diff represetntion of the from the input value (input seq)\n",
    "    # due to the additive compat. func.\n",
    "    \n",
    "    # Also, in this attention approach the query is a matrix of token vecs (since we consider current target word \n",
    "    # and all prev words in target seq) like the keys instead of single vec for only the target token vec.\n",
    "    \n",
    "    # dec_idx (t) and enc_idx (s) represent decoder and encoder hidden states at diff time indices. enc_idx will be length of a padded\n",
    "    # input seq and dec_idx will be length of a padded output seq.\n",
    "    def call(self, query, value, mask):\n",
    "        shape_checker = ShapeChecker()\n",
    "        shape_checker(query, (\"batch\", \"dec_idx\", \"dec_hid_state_cells\"))\n",
    "        shape_checker(value, (\"batch\", \"enc_idx\", \"enc_hid_state_cells\"))\n",
    "        shape_checker(mask, (\"batch\", \"enc_idx\"))\n",
    "        \n",
    "        # From eq. 4 \"W1 @ ht\" (@ being matrix multiplication)\n",
    "        w1_query = self.W1(query)\n",
    "        shape_checker(w1_query, (\"batch\", \"dec_idx\", \"additive_attn_units\"))\n",
    "        \n",
    "        # From eq. 4 \"W2 @ hs\" (@ being matrix multiplication)\n",
    "        w2_key = self.W2(value)\n",
    "        shape_checker(w2_key, (\"batch\", \"enc_idx\", \"additive_attn_units\"))\n",
    "        \n",
    "        query_mask = tf.ones(tf.shape(query)[:-1], dtype=bool) # If given, the output will be zero at the positions where mask==False.\n",
    "        value_mask = mask # If given, will apply the mask such that values at positions where mask==False do not contribute to the result.\n",
    "\n",
    "        context_vectors, attention_weight_dists = self.additiveAttention(\n",
    "            inputs=[w1_query, value, w2_key],\n",
    "            mask=[query_mask, value_mask],\n",
    "            return_attention_scores=True # returns attention weights after softmax dist func in \"core\" attention model\n",
    "        )\n",
    "        # dec_idx is size of tensors' axis 1 because each targ word from 1st to dec_idx-ist will have a context vector (in other \n",
    "        # words, a compact attention representation of the input seq) and attention weight dist associated w/ it. Each targ word \n",
    "        # pays attention to potentially diff words from input seq based on potentially diff attention weight dists.\n",
    "        shape_checker(context_vectors, (\"batch\", \"dec_idx\", \"enc_hid_state_cells\")) # each context vec is of length enc_hid_state_cells because it is the \"compact\" representation of the input seq which will be the same size as enc hidden state at a single timestamp.\n",
    "        shape_checker(attention_weight_dists, (\"batch\", \"dec_idx\", \"enc_idx\")) # each attention weight dist is of length enc_idx because there is a corresponding weight for each token in input seq\n",
    "        \n",
    "        return context_vectors, attention_weight_dists"
   ]
  },
  {
   "cell_type": "code",
   "execution_count": 312,
   "id": "439535fa-ce53-41b5-9ba9-0e6f8d7c0da8",
   "metadata": {},
   "outputs": [
    {
     "name": "stdout",
     "output_type": "stream",
     "text": [
      "Context vectors shape: (batch_size, query_seq_length, units):   (64, 2, 1024)\n",
      "Attention weights shape: (batch_size, query_seq_length, value_seq_length):   (64, 2, 17)\n"
     ]
    }
   ],
   "source": [
    "\"\"\"\n",
    "Testing attention (model) layer\n",
    "\n",
    "This layer takes 3 inputs:\n",
    "- The query: This will be generated by the decoder, later.\n",
    "- The value: This Will be the output of the encoder.\n",
    "- The mask: To exclude the padding: use (example_input_tokens != 0) would result in a bool tensor of same size as example_input_tokens\n",
    "\n",
    "The vectorized implementation of the attention layer lets you pass a batch of sequences of query vectors and a batch of sequence of value vectors. The result is:\n",
    "1) A batch of sequences of resultant context vectors (each the length of the queries).\n",
    "2) A batch of attention weight dists, with size (query_length, value_length).\n",
    "\"\"\"\n",
    "\n",
    "attention_layer = BahdanuaAttention(layer_units)\n",
    "\n",
    "# Later, the decoder will generate this attention query.\n",
    "example_attention_query = tf.random.normal(shape=[len(example_input_tokens), 2, 10])\n",
    "\n",
    "# Attend to the encoded tokens:\n",
    "context_vectors, attention_weight_dists = attention_layer(\n",
    "    query=example_attention_query,\n",
    "    value=example_enc_output,\n",
    "    mask=(example_input_tokens != 0)\n",
    ")\n",
    "\n",
    "print(f'Context vectors shape: (batch_size, query_seq_length, units):   {context_vectors.shape}')\n",
    "print(f'Attention weights shape: (batch_size, query_seq_length, value_seq_length):   {attention_weight_dists.shape}')"
   ]
  },
  {
   "cell_type": "code",
   "execution_count": 313,
   "id": "8099549b-6f02-4b03-ad98-d47d41b08afa",
   "metadata": {},
   "outputs": [
    {
     "data": {
      "text/plain": [
       "Text(0.5, 1.0, 'Mask')"
      ]
     },
     "execution_count": 313,
     "metadata": {},
     "output_type": "execute_result"
    },
    {
     "data": {
      "image/png": "[encoded data removed]",
      "text/plain": [
       "<Figure size 432x288 with 2 Axes>"
      ]
     },
     "metadata": {
      "needs_background": "light"
     },
     "output_type": "display_data"
    }
   ],
   "source": [
    "# The attention weights should sum to 1.0 for each sequence.\n",
    "\n",
    "# Here are the attention weights across the sequences at t=0:\n",
    "\n",
    "# Because of the small-random initialization the attention weights are all close to 1/(sequence_length). If you zoom in on the weights for a single sequence, you can see that there is some small variation that the model can learn to expand, and exploit.\n",
    "# In other words, weight dists look like all same values per input seq because model has not been trained.\n",
    "plt.subplot(1, 2, 1)\n",
    "plt.pcolormesh(attention_weights[:, 0, :])\n",
    "plt.title('Attention weights')\n",
    "\n",
    "plt.subplot(1, 2, 2)\n",
    "plt.pcolormesh(example_input_tokens != 0)\n",
    "plt.title('Mask')"
   ]
  },
  {
   "cell_type": "code",
   "execution_count": 286,
   "id": "382dffc7-fb06-4ea6-982e-4a5c7fd600a4",
   "metadata": {},
   "outputs": [
    {
     "data": {
      "text/plain": [
       "[<matplotlib.lines.Line2D at 0x21bd55ca198>]"
      ]
     },
     "execution_count": 286,
     "metadata": {},
     "output_type": "execute_result"
    },
    {
     "data": {
      "text/plain": [
       "<Figure size 432x288 with 0 Axes>"
      ]
     },
     "metadata": {},
     "output_type": "display_data"
    },
    {
     "data": {
      "image/png": "[encoded data removed]",
      "text/plain": [
       "<Figure size 864x432 with 2 Axes>"
      ]
     },
     "metadata": {
      "needs_background": "light"
     },
     "output_type": "display_data"
    }
   ],
   "source": [
    "attention_slice = attention_weights[0, 0].numpy()\n",
    "attention_slice = attention_slice[attention_slice != 0]\n",
    "\n",
    "plt.suptitle('Attention weights for one sequence')\n",
    "\n",
    "plt.figure(figsize=(12, 6))\n",
    "a1 = plt.subplot(1, 2, 1)\n",
    "plt.bar(range(len(attention_slice)), attention_slice)\n",
    "# freeze the xlim\n",
    "plt.xlim(plt.xlim())\n",
    "plt.xlabel('Attention weights')\n",
    "\n",
    "a2 = plt.subplot(1, 2, 2)\n",
    "plt.bar(range(len(attention_slice)), attention_slice)\n",
    "plt.xlabel('Attention weights, zoomed')\n",
    "\n",
    "# zoom in\n",
    "top = max(a1.get_ylim())\n",
    "zoom = 0.85*top\n",
    "a2.set_ylim([0.90*top, top])\n",
    "a1.plot(a1.get_xlim(), [zoom, zoom], color='k')"
   ]
  },
  {
   "cell_type": "code",
   "execution_count": 304,
   "id": "8803bdaa-63d2-4f92-822e-8a5e74d83cf3",
   "metadata": {},
   "outputs": [],
   "source": [
    "\"\"\"\n",
    "The decoder\n",
    "\n",
    "The decoder's job is to generate predictions for the next output token.\n",
    "1) The decoder receives the complete encoder output (final enc cell state and enc hidden states at all timestamps for input seq).\n",
    "2) It uses an RNN to keep track of what it has generated so far.\n",
    "3) It uses its RNN output as the query to the attention over the encoder's output, producing the context vector.\n",
    "4) It combines the RNN output and the context vector using Equation 3 (below) to generate the \"attention vector\".\n",
    "5) It generates logit predictions for the next token based on the \"attention vector\".\n",
    "\"\"\"\n",
    "\n",
    "# The call method for this Decoder layer takes and returns multiple tensors. Organize those into simple container classes (DecoderInput and DecoderOutput):\n",
    "class DecoderInput(typing.NamedTuple):\n",
    "    new_tokens: Any   # The last tokens generated. Decoder will be initialized with the \"[START]\" token.\n",
    "    enc_output: Any\n",
    "    mask: Any\n",
    "\n",
    "class DecoderOutput(typing.NamedTuple):\n",
    "    logits: Any\n",
    "    attention_weights: Any\n",
    "\n",
    "class Decoder(tf.keras.layers.Layer):\n",
    "    def __init__(self, output_vocab_size, embedding_dim, dec_units):\n",
    "        super(Decoder, self).__init__()\n",
    "        self.dec_units = dec_units\n",
    "        self.embedding_dim = embedding_dim\n",
    "        self.output_vocab_size = output_vocab_size\n",
    "        \n",
    "        # 1) The embedding layer converts token IDs to vectors.\n",
    "        self.embedding = tf.keras.layers.Embedding(\n",
    "            input_dim=self.output_vocab_size,\n",
    "            output_dim=self.embedding_dim\n",
    "        )\n",
    "        \n",
    "        # 2) The RNN keeps track of whats been generated so far.\n",
    "        self.gru = tf.keras.layers.GRU(\n",
    "            units=self.dec_units,\n",
    "            return_sequences=True,\n",
    "            return_state=True,\n",
    "            recurrent_initializer=\"glorot_uniform\"\n",
    "        )\n",
    "        \n",
    "        # 3) The RNN output will be the next query for the attention layer.\n",
    "        self.attention = BahdanuaAttention(self.dec_units)\n",
    "        \n",
    "        # 4) Use eq. 3: combine (use FFNN a.k.a. just a dense layer) decoder RNN hidden state w/ context vector to obtain \"attention vector\"\n",
    "        self.Wc = tf.keras.layers.Dense(\n",
    "            units=self.dec_units,\n",
    "            activation=tf.math.tanh,\n",
    "            use_bias=False\n",
    "        )\n",
    "        \n",
    "        # 5) This fully connected dense layer produces the logits for each output token from the \"attention vector\" outputted from the last dense layer in step 4.\n",
    "        self.fc = tf.keras.layers.Dense(self.output_vocab_size)\n",
    "        \n",
    "    def call(self,\n",
    "             inputs: DecoderInput,\n",
    "             state=None) -> Tuple[DecoderOutput, tf.Tensor]:\n",
    "        shape_checker = ShapeChecker()\n",
    "        shape_checker(inputs.new_tokens, (\"batch\", \"dec_idx\"))\n",
    "        shape_checker(inputs.enc_output, (\"batch\", \"enc_idx\", \"enc_hidden_state_cells\"))\n",
    "        shape_checker(inputs.mask, (\"batch\", \"enc_idx\"))\n",
    "        \n",
    "        if state is not None:\n",
    "            shape_checker(state, (\"batch\", \"dec_hidden_state_cells\"))\n",
    "            \n",
    "        # 1) Lookup the embeddings.\n",
    "        vectors = self.embedding(inputs.new_tokens)\n",
    "        shape_checker(vectors, (\"batch\", \"dec_idx\", \"embedding_dim\"))\n",
    "        \n",
    "        # 2) Process one step w/ the RNN.\n",
    "        rnn_outputs, rnn_state = self.gru(vectors, initial_state=state)\n",
    "        shape_checker(rnn_outputs, (\"batch\", \"dec_idx\", \"dec_hidden_state_cells\"))\n",
    "        shape_checker(rnn_state, (\"batch\", \"dec_hidden_state_cells\"))\n",
    "        \n",
    "        # 3) Use the RNN output as the query for the attention model over the encoder output.\n",
    "        # *note* dec_hidden_state_cells == enc_hidden_state_cells so additive attention matrix math works.\n",
    "        context_vectors, attention_weight_dists = self.attention(\n",
    "            query=rnn_outputs,\n",
    "            value=inputs.enc_output,\n",
    "            mask=inputs.mask\n",
    "        )\n",
    "        shape_checker(context_vectors, (\"batch\", \"dec_idx\", \"dec_hidden_state_cells\"))\n",
    "        shape_checker(attention_weight_dists, (\"batch\", \"dec_idx\", \"enc_idx\"))\n",
    "        \n",
    "        # 4) Use eq. 3: Combine the context_vectors w/ RNN hidden states output.\n",
    "        #    [ct; ht] shape: (batch, dec_idx, value_hidden_state_cells + query_hidden_state_cells)\n",
    "        contexts_and_hidden_states = tf.concat([context_vectors, rnn_outputs], axis=-1) # each context vec appended w/ respective (timestamp matched) RNN hidden state for each row\n",
    "        #   at = tanh(Wc@[ct;ht])\n",
    "        attention_vector = self.Wc(contexts_and_hidden_states)\n",
    "        shape_checker(attention_vector, (\"batch\", \"dec_idx\", \"dec_hidden_state_cells\"))\n",
    "        \n",
    "        # 5) Generate logits predictions.\n",
    "        logits = self.fc(attention_vector)\n",
    "        shape_checker(logits, (\"batch\", \"dec_idx\", \"dec_vocab_size\"))\n",
    "        \n",
    "        return DecoderOutput(logits, attention_weight_dists), rnn_state"
   ]
  },
  {
   "cell_type": "code",
   "execution_count": 336,
   "id": "979d0c20-9811-4f08-a362-c4d4d22e77ab",
   "metadata": {},
   "outputs": [
    {
     "name": "stdout",
     "output_type": "stream",
     "text": [
      "logits shape: (batch_size, dex_idx, output_vocab_size) (64, 1, 5000)\n",
      "state shape: (batch_size, dec_units) (64, 1024)\n"
     ]
    }
   ],
   "source": [
    "\"\"\"\n",
    "Testing the decoder\n",
    "\n",
    "The encoder processes its full input sequence with a single call to its RNN. This implementation of the decoder can do that as well for efficient training. But this tutorial will run the decoder in a loop for a few reasons:\n",
    "- Flexibility: Writing the loop gives you direct control over the training procedure.\n",
    "- Clarity: It's possible to do masking tricks and use layers.RNN, or tfa.seq2seq APIs to pack this all into a single call. But writing it out as a loop may be clearer.\n",
    "  - Loop free training is demonstrated in the Text generation tutiorial.\n",
    "\"\"\"\n",
    "\n",
    "decoder = Decoder(\n",
    "    output_vocab_size=output_text_pre_processor.vocabulary_size(), \n",
    "    embedding_dim=embedding_dim, \n",
    "    dec_units=layer_units\n",
    ")\n",
    "\n",
    "\"\"\"\n",
    "The decoder takes 4 inputs.\n",
    "- new_tokens - The last tokens generated. Initialize the decoder with the \"[START]\" token.\n",
    "- enc_output - Generated by the Encoder.\n",
    "- mask - A boolean tensor indicating where tokens != 0\n",
    "- state - The previous state output from the decoder (the internal state of the decoder's RNN). Pass None to zero-initialize it. The original paper initializes it from the encoder's final RNN state.\n",
    "\"\"\"\n",
    "\n",
    "# Convert the targ seq, and collect the \"[START]\" tokens.\n",
    "example_output_tokens = output_text_pre_processor(example_target_batch)\n",
    "\n",
    "start_idx = output_text_pre_processor.get_vocabulary().index(\"[START]\")\n",
    "first_tokens = tf.constant([[start_idx]] * example_output_tokens.shape[0])\n",
    "\n",
    "# Run the decoder.\n",
    "dec_output, dec_state = decoder(\n",
    "    inputs=DecoderInput(\n",
    "        new_tokens=first_tokens,\n",
    "        enc_output=example_enc_output,\n",
    "        mask=(example_input_tokens != 0)\n",
    "    ),\n",
    "    state=example_enc_state\n",
    ")\n",
    "\n",
    "print(f'logits shape: (batch_size, dex_idx, output_vocab_size) {dec_output.logits.shape}')\n",
    "print(f'state shape: (batch_size, dec_units) {dec_state.shape}')"
   ]
  },
  {
   "cell_type": "code",
   "execution_count": 337,
   "id": "c9b1c720-4c4a-4ac5-a2d9-ced14c7b7ae1",
   "metadata": {
    "scrolled": true,
    "tags": []
   },
   "outputs": [
    {
     "data": {
      "text/plain": [
       "array([['legal'],\n",
       "       ['free'],\n",
       "       ['courage'],\n",
       "       ['repairing'],\n",
       "       ['roommate'],\n",
       "       ['likes'],\n",
       "       ['idea'],\n",
       "       ['stock'],\n",
       "       ['philosophy'],\n",
       "       ['fastest'],\n",
       "       ['insurance'],\n",
       "       ['bakery'],\n",
       "       ['translator'],\n",
       "       ['asked'],\n",
       "       ['wedding'],\n",
       "       ['everyones'],\n",
       "       ['hoping'],\n",
       "       ['lifes'],\n",
       "       ['yesterdays'],\n",
       "       ['ankle'],\n",
       "       ['fainted'],\n",
       "       ['saturday'],\n",
       "       ['horrible'],\n",
       "       ['earned'],\n",
       "       ['windows'],\n",
       "       ['concentrate'],\n",
       "       ['bees'],\n",
       "       ['unable'],\n",
       "       ['slice'],\n",
       "       ['ugly'],\n",
       "       ['enter'],\n",
       "       ['immigrants'],\n",
       "       ['bread'],\n",
       "       ['stunned'],\n",
       "       ['composition'],\n",
       "       ['can'],\n",
       "       ['male'],\n",
       "       ['tonight'],\n",
       "       ['much'],\n",
       "       ['certainly'],\n",
       "       ['leaks'],\n",
       "       ['affairs'],\n",
       "       ['tin'],\n",
       "       ['memorize'],\n",
       "       ['earth'],\n",
       "       ['opening'],\n",
       "       ['bring'],\n",
       "       ['twin'],\n",
       "       ['rang'],\n",
       "       ['nine'],\n",
       "       ['case'],\n",
       "       ['baseball'],\n",
       "       ['expected'],\n",
       "       ['felt'],\n",
       "       ['garden'],\n",
       "       ['supper'],\n",
       "       ['cheap'],\n",
       "       ['wonderful'],\n",
       "       ['tip'],\n",
       "       ['toms'],\n",
       "       ['adjusted'],\n",
       "       ['he'],\n",
       "       ['microscope'],\n",
       "       ['first']], dtype='<U16')"
      ]
     },
     "execution_count": 337,
     "metadata": {},
     "output_type": "execute_result"
    }
   ],
   "source": [
    "# Sample a token according to the logits:\n",
    "sampled_tokens = tf.random.categorical(dec_output.logits[:,0,:], num_samples=1)\n",
    "\n",
    "# Decode the token as the first word of the output:\n",
    "vocab = np.array(output_text_pre_processor.get_vocabulary())\n",
    "first_words = vocab[sampled_tokens.numpy()] \n",
    "first_words"
   ]
  },
  {
   "cell_type": "code",
   "execution_count": 338,
   "id": "d7744a79-01bc-4b46-9bda-3693c7be0a76",
   "metadata": {
    "scrolled": true,
    "tags": []
   },
   "outputs": [
    {
     "data": {
      "text/plain": [
       "array([['unpleasant'],\n",
       "       ['elbow'],\n",
       "       ['luck'],\n",
       "       ['deprived'],\n",
       "       ['philosophy'],\n",
       "       ['section'],\n",
       "       ['butter'],\n",
       "       ['met'],\n",
       "       ['okay'],\n",
       "       ['dripping'],\n",
       "       ['cheered'],\n",
       "       ['victory'],\n",
       "       ['pleasant'],\n",
       "       ['tea'],\n",
       "       ['died'],\n",
       "       ['murdered'],\n",
       "       ['reserved'],\n",
       "       ['tennis'],\n",
       "       ['yell'],\n",
       "       ['elses'],\n",
       "       ['ham'],\n",
       "       ['growth'],\n",
       "       ['thief'],\n",
       "       ['process'],\n",
       "       ['soft'],\n",
       "       ['extinct'],\n",
       "       ['parked'],\n",
       "       ['called'],\n",
       "       ['doorbell'],\n",
       "       ['finish'],\n",
       "       ['into'],\n",
       "       ['handled'],\n",
       "       ['bothering'],\n",
       "       ['cane'],\n",
       "       ['bet'],\n",
       "       ['supermarket'],\n",
       "       ['teach'],\n",
       "       ['flipped'],\n",
       "       ['coughed'],\n",
       "       ['experiment'],\n",
       "       ['problems'],\n",
       "       ['declined'],\n",
       "       ['gardener'],\n",
       "       ['running'],\n",
       "       ['plane'],\n",
       "       ['worth'],\n",
       "       ['assistant'],\n",
       "       ['meet'],\n",
       "       ['holds'],\n",
       "       ['happy'],\n",
       "       ['refrigerator'],\n",
       "       ['rid'],\n",
       "       ['manager'],\n",
       "       ['roses'],\n",
       "       ['article'],\n",
       "       ['letting'],\n",
       "       ['thinking'],\n",
       "       ['head'],\n",
       "       ['forty'],\n",
       "       ['grades'],\n",
       "       ['turn'],\n",
       "       ['minor'],\n",
       "       ['flat'],\n",
       "       ['collected']], dtype='<U16')"
      ]
     },
     "execution_count": 338,
     "metadata": {},
     "output_type": "execute_result"
    }
   ],
   "source": [
    "\"\"\"\n",
    "Now use the decoder to generate a second set of logits.\n",
    "- Pass the same enc_output and mask, these haven't changed.\n",
    "- Pass the sampled token as new_tokens.\n",
    "- Pass the decoder_state the decoder returned last time, so the RNN continues with a memory of where it left off last time.\n",
    "\"\"\"\n",
    "\n",
    "dec_output, dec_state = decoder(\n",
    "    inputs=DecoderInput(\n",
    "        new_tokens=sampled_tokens,\n",
    "        enc_output=example_enc_output,\n",
    "        mask=(example_input_tokens != 0)\n",
    "    ),\n",
    "    state=dec_state\n",
    ")\n",
    "\n",
    "sampled_tokens = tf.random.categorical(dec_output.logits[:,0,:], num_samples=1)\n",
    "second_words = vocab[sampled_tokens.numpy()] \n",
    "second_words"
   ]
  },
  {
   "cell_type": "markdown",
   "id": "2b574cd4-eeaf-4c51-88b9-372db30438e2",
   "metadata": {},
   "source": [
    "# Training"
   ]
  },
  {
   "cell_type": "code",
   "execution_count": 448,
   "id": "d027ef2a-b757-47a3-afd5-ecf493733126",
   "metadata": {},
   "outputs": [],
   "source": [
    "\"\"\"\n",
    "Now that you have all the model components, it's time to start training the model. You'll need:\n",
    "- A loss function and optimizer to perform the optimization.\n",
    "- A training step function defining how to update the model for each input/target batch.\n",
    "- A training loop to drive the training and save checkpoints.\n",
    "\"\"\"\n",
    "\n",
    "\"\"\"\n",
    "Define the loss function.\n",
    "\"\"\"\n",
    "\n",
    "class MaskedLoss(tf.keras.losses.Loss):\n",
    "    def __init__(self):\n",
    "        self.name = \"masked_loss\"\n",
    "        self.loss = tf.keras.losses.SparseCategoricalCrossentropy(\n",
    "            from_logits=True,\n",
    "            reduction=\"none\"\n",
    "        )\n",
    "    \n",
    "    def __call__(self, y_true, y_pred):\n",
    "        shape_checker = ShapeChecker()\n",
    "        shape_checker(y_true, (\"batch\", \"dec_idx\"))\n",
    "        shape_checker(y_pred, (\"batch\", \"dec_idx\", \"logits\")) # logits same size as dec_vocab_size\n",
    "        \n",
    "        # Calculate the loss for each item in the batch.\n",
    "        losses = self.loss(y_true, y_pred) # SparseCategroricalCrossentropy calculation explained here https://www.tensorflow.org/api_docs/python/tf/keras/losses/SparseCategoricalCrossentropy\n",
    "        shape_checker(losses, (\"batch\", \"dec_idx\")) # 2nd dim is dec_idx because we get seperate losses per seq token since reduction=\"none\" for SparseCategroricalCrossentropy\n",
    "        \n",
    "        # Mask off the losses on padding (this is why reduction=\"none\" so that we can mask off unrelevant losses before doing a sum reduction operation)\n",
    "        mask = tf.cast(y_true != 0, tf.float32)\n",
    "        shape_checker(mask, (\"batch\", \"dec_idx\"))\n",
    "        losses *= mask\n",
    "        \n",
    "        # Return the total\n",
    "        return tf.reduce_sum(losses)"
   ]
  },
  {
   "cell_type": "code",
   "execution_count": 560,
   "id": "8f51f972-6b5e-4332-9326-4e073e39747b",
   "metadata": {},
   "outputs": [],
   "source": [
    "\"\"\"\n",
    "Implement the training step\n",
    "\n",
    "Start with a model class, the training process will be implemented as the train_step method on this model. See Customizing fit for details.\n",
    "Here the train_step method is a wrapper around the _train_step implementation which will come later. This wrapper includes a switch to turn on and off tf.function compilation, to make debugging easier.\n",
    "\n",
    "Overall the implementation for the Model.train_step method is as follows:\n",
    "1) Receive a batch of input_text, target_text from the tf.data.Dataset.\n",
    "2) Convert those raw text inputs to token-embeddings and masks.\n",
    "3) Run the encoder on the input_tokens to get the encoder_output and encoder_state.\n",
    "4) Initialize the decoder state and loss.\n",
    "5) Loop over the target_tokens:\n",
    "    A) Run the decoder one step at a time.\n",
    "    B) Calculate the loss for each step.\n",
    "    C) Accumulate the average loss.\n",
    "6) Calculate the gradient of the loss and use the optimizer to apply updates to the model's trainable_variables.\n",
    "The _preprocess method, added below, implements steps #1 and #2:\n",
    "\"\"\"\n",
    "\n",
    "class TrainTranslatorModel(tf.keras.Model):\n",
    "    def __init__(self,\n",
    "                 embedding_dim,\n",
    "                 layer_units,   # which is equal to enc_hidden_state_cells and dec_hidden_state_cells\n",
    "                 input_text_pre_processor,\n",
    "                 output_text_pre_processor,\n",
    "                 use_tf_function=True):\n",
    "        super(TrainTranslatorModel, self).__init__()\n",
    "        self.input_text_pre_processor = input_text_pre_processor\n",
    "        self.output_text_pre_processor = output_text_pre_processor\n",
    "        self.use_tf_function = use_tf_function\n",
    "        \n",
    "        # Build the encoder and decoder.\n",
    "        self.encoder = Encoder(\n",
    "            input_vocab_size=self.input_text_pre_processor.vocabulary_size(), \n",
    "            embedding_dim=embedding_dim,\n",
    "            enc_units=layer_units\n",
    "        )\n",
    "        self.decoder = Decoder(\n",
    "            output_vocab_size=self.output_text_pre_processor.vocabulary_size(), \n",
    "            embedding_dim=embedding_dim, \n",
    "            dec_units=layer_units\n",
    "        )\n",
    "        \n",
    "    def train_step(self, inputs):\n",
    "        # Need to initialize shape_checker here before each train step because batches can have diff size \n",
    "        # dims like after preprocessing w/ input_text_pre_processor and output_text_pre_processor (e.g. \"enc_idx\" \n",
    "        # and \"dec_idx\" dims would be diff sizes for each batch if they have diff max seq lengths)\n",
    "        self.shape_checker = ShapeChecker()\n",
    "        \n",
    "        input_text, target_text = inputs\n",
    "        if self.use_tf_function:\n",
    "            return self._tf_train_step(input_text, target_text)\n",
    "        else:\n",
    "            return self._train_step(input_text, target_text)\n",
    "    \n",
    "    # Implements steps #1 and #2.\n",
    "    def _pre_process(self, input_text, target_text):\n",
    "        self.shape_checker(input_text, (\"batch\",))\n",
    "        self.shape_checker(target_text, (\"batch\",))\n",
    "        \n",
    "        # Convert batch of raw seqeunces to sequences of token IDs.\n",
    "        input_tokens = self.input_text_pre_processor(input_text)\n",
    "        target_tokens = self.output_text_pre_processor(target_text)\n",
    "        self.shape_checker(input_tokens, (\"batch\", \"enc_idx\"))\n",
    "        self.shape_checker(target_tokens, (\"batch\", \"dec_idx\"))\n",
    "        \n",
    "        # Convert IDs to masks.\n",
    "        input_mask = input_tokens != 0\n",
    "        target_mask = target_tokens != 0\n",
    "        self.shape_checker(input_mask, (\"batch\", \"enc_idx\"))\n",
    "        self.shape_checker(target_mask, (\"batch\", \"dec_idx\"))\n",
    "        \n",
    "        return input_tokens, input_mask, target_tokens, target_mask\n",
    "    \n",
    "    # Implements rest of steps, #3 - #6, but doesn't explicitly call decoder which is instead done in _loop_step() \n",
    "    def _train_step(self, input_text, target_text):\n",
    "        input_tokens, input_mask, target_tokens, target_mask = self._pre_process(input_text, target_text)\n",
    "        \n",
    "        max_target_len = tf.shape(target_tokens)[1]\n",
    "        \n",
    "        # Record operations for automatic differentiation.\n",
    "        with tf.GradientTape() as tape:\n",
    "            # Encode the input.\n",
    "            enc_output, enc_state = self.encoder(input_tokens)\n",
    "            self.shape_checker(enc_output, (\"batch\", \"enc_idx\", \"enc_hidden_state_cells\"))\n",
    "            self.shape_checker(enc_state, (\"batch\", \"enc_hidden_state_cells\"))\n",
    "            \n",
    "            # Initialize the decoder's state to the encoder's final state.\n",
    "            # This only works if the encoder and decoder have the same number of hidden state RNN cells.\n",
    "            dec_state = enc_state\n",
    "            loss = tf.constant(0.0)\n",
    "            \n",
    "            for t in tf.range(max_target_len - 1):\n",
    "                # Pass in 2 tokens from the target seq to calcuate loss for one timestep:\n",
    "                # 1) The current input to the decoder.\n",
    "                # 2) The target for the decoder's next prediction.\n",
    "                new_tokens = target_tokens[:, t:t+2]\n",
    "                step_loss, dec_state = self._loop_step(\n",
    "                    new_tokens=new_tokens, \n",
    "                    input_mask=input_mask, \n",
    "                    enc_output=enc_output, \n",
    "                    dec_state=dec_state\n",
    "                )\n",
    "                loss += step_loss\n",
    "            \n",
    "            # Average the loss over all non padding tokens.\n",
    "            avg_loss = loss / tf.reduce_sum(tf.cast(target_mask, tf.float32))\n",
    "        \n",
    "        # Apply an optomization step.\n",
    "        variables = self.trainable_variables\n",
    "        gradients = tape.gradient(avg_loss, variables)\n",
    "        self.optimizer.apply_gradients(zip(gradients, variables))\n",
    "        \n",
    "        # Return a dict mapping metric names to current value.\n",
    "        return {\"batch_loss\": avg_loss}\n",
    "    \n",
    "    # Implements step #5.A - #5.B\n",
    "    # Executes the decoder and calculates the incremental loss and new decoder state (dec_state).\n",
    "    def _loop_step(self, new_tokens, input_mask, enc_output, dec_state):\n",
    "        input_token_per_seq, target_token_per_seq = new_tokens[:, 0:1], new_tokens[:, 1:2] # indexed w/ 0:1 and 1:2 instead of just 0 and 1 so that an array is returned per seq instead of a single elem per seq\n",
    "        \n",
    "        # Run the decoder.\n",
    "        decoder_input = DecoderInput(\n",
    "            new_tokens=input_token_per_seq,\n",
    "            enc_output=enc_output,\n",
    "            mask=input_mask\n",
    "        )\n",
    "        \n",
    "        dec_output, dec_state = self.decoder(decoder_input, state=dec_state)\n",
    "        self.shape_checker(dec_output.logits, (\"batch\", \"one_dec_idx\", \"dec_vocab_size\"))\n",
    "        self.shape_checker(dec_output.attention_weights, (\"batch\", \"one_dec_idx\", \"enc_idx\"))\n",
    "        self.shape_checker(dec_state, (\"batch\", \"dec_hidden_state_cells\"))\n",
    "        \n",
    "        y_true = target_token_per_seq\n",
    "        y_pred = dec_output.logits\n",
    "        # Remember self.loss (which will be a instance of the custom MaskedLoss loss class above) returns the total loss over non-pad tokens.\n",
    "        step_loss = self.loss(y_true, y_pred)\n",
    "        \n",
    "        return step_loss, dec_state"
   ]
  },
  {
   "cell_type": "code",
   "execution_count": 532,
   "id": "75e2843b-c17c-40e4-92f9-b9564a2c97ab",
   "metadata": {},
   "outputs": [
    {
     "name": "stdout",
     "output_type": "stream",
     "text": [
      "For a text model like this the loss should start near: 8.517193191416238\n"
     ]
    }
   ],
   "source": [
    "\"\"\"\n",
    "Test the training step\n",
    "\"\"\"\n",
    "\n",
    "# Create another batch for more robust testing w/ shape_checker.\n",
    "for example_input_batch_2, example_target_batch_2 in dataset.take(1):   \n",
    "    if example_input_batch.numpy()[0] == example_input_batch_2.numpy()[0]:\n",
    "        raise Error(\"Rerun this cell to generate two batches w/ diff max seq lenghts.\")\n",
    "\n",
    "test_trainer = TrainTranslatorModel(\n",
    "    embedding_dim=embedding_dim,\n",
    "    layer_units=layer_units,\n",
    "    input_text_pre_processor=input_text_pre_processor,\n",
    "    output_text_pre_processor=output_text_pre_processor,\n",
    "    use_tf_function=False\n",
    ")\n",
    "\n",
    "# Configure the loss and optimizer.\n",
    "test_trainer.compile(\n",
    "    optimizer=tf.optimizers.Adam(),\n",
    "    loss=MaskedLoss()\n",
    ")\n",
    "\n",
    "print(f\"For a text model like this the loss should start near: {np.log(output_text_pre_processor.vocabulary_size())}\")"
   ]
  },
  {
   "cell_type": "code",
   "execution_count": 533,
   "id": "3dffa7c8-45e9-45df-9adc-19fa592658c9",
   "metadata": {},
   "outputs": [
    {
     "name": "stdout",
     "output_type": "stream",
     "text": [
      "{'batch_loss': <tf.Tensor: shape=(), dtype=float32, numpy=7.626212>}\n",
      "{'batch_loss': <tf.Tensor: shape=(), dtype=float32, numpy=7.5544176>}\n",
      "{'batch_loss': <tf.Tensor: shape=(), dtype=float32, numpy=7.545747>}\n",
      "{'batch_loss': <tf.Tensor: shape=(), dtype=float32, numpy=7.3556385>}\n",
      "{'batch_loss': <tf.Tensor: shape=(), dtype=float32, numpy=6.916562>}\n",
      "{'batch_loss': <tf.Tensor: shape=(), dtype=float32, numpy=5.2162886>}\n",
      "{'batch_loss': <tf.Tensor: shape=(), dtype=float32, numpy=5.2801943>}\n",
      "{'batch_loss': <tf.Tensor: shape=(), dtype=float32, numpy=4.62418>}\n",
      "{'batch_loss': <tf.Tensor: shape=(), dtype=float32, numpy=4.4014463>}\n",
      "{'batch_loss': <tf.Tensor: shape=(), dtype=float32, numpy=4.2068243>}\n",
      "{'batch_loss': <tf.Tensor: shape=(), dtype=float32, numpy=4.2824416>}\n",
      "{'batch_loss': <tf.Tensor: shape=(), dtype=float32, numpy=4.181142>}\n",
      "{'batch_loss': <tf.Tensor: shape=(), dtype=float32, numpy=4.219909>}\n",
      "{'batch_loss': <tf.Tensor: shape=(), dtype=float32, numpy=4.1225867>}\n",
      "{'batch_loss': <tf.Tensor: shape=(), dtype=float32, numpy=4.1556225>}\n",
      "{'batch_loss': <tf.Tensor: shape=(), dtype=float32, numpy=4.050829>}\n",
      "{'batch_loss': <tf.Tensor: shape=(), dtype=float32, numpy=4.038503>}\n",
      "{'batch_loss': <tf.Tensor: shape=(), dtype=float32, numpy=3.9571614>}\n",
      "{'batch_loss': <tf.Tensor: shape=(), dtype=float32, numpy=3.955861>}\n",
      "{'batch_loss': <tf.Tensor: shape=(), dtype=float32, numpy=3.8826444>}\n",
      "\n",
      "Wall time: 8.32 s\n"
     ]
    }
   ],
   "source": [
    "%%time\n",
    "for n in range(10):\n",
    "    print(test_trainer.train_step([example_input_batch, example_target_batch]))\n",
    "    print(test_trainer.train_step([example_input_batch_2, example_target_batch_2]))\n",
    "print()"
   ]
  },
  {
   "cell_type": "code",
   "execution_count": 534,
   "id": "be75d87b-4148-4539-a315-0b732ce75a0e",
   "metadata": {},
   "outputs": [],
   "source": [
    "\"\"\"\n",
    "Test the training step w/ perf boost from using tf.function()\n",
    "\n",
    "While it's easier to debug without a tf.function it does give a performance boost. \n",
    "So now that the _train_step method is working, try the tf.function-wrapped _tf_train_step, to maximize performance while training:\n",
    "\n",
    "tf.function: Compiles a function into a callable TensorFlow graph.\n",
    "\n",
    "The first call will be slow, because it traces the function.\n",
    "But after that it's usually 2-3x faster than the eager (slower) train_step method:\n",
    "\"\"\"\n",
    "\n",
    "@tf.function(input_signature=[tf.TensorSpec(dtype=tf.string, shape=[None]), \n",
    "                               tf.TensorSpec(dtype=tf.string, shape=[None])])\n",
    "def _tf_train_step(self, input_text, target_text):\n",
    "    return self._train_step(input_text, target_text)\n",
    "TrainTranslatorModel._tf_train_step = _tf_train_step\n",
    "\n",
    "test_trainer = TrainTranslatorModel(\n",
    "    embedding_dim=embedding_dim,\n",
    "    layer_units=layer_units,\n",
    "    input_text_pre_processor=input_text_pre_processor,\n",
    "    output_text_pre_processor=output_text_pre_processor,\n",
    "    use_tf_function=True\n",
    ")\n",
    "\n",
    "# Configure the loss and optimizer.\n",
    "test_trainer.compile(\n",
    "    optimizer=tf.optimizers.Adam(),\n",
    "    loss=MaskedLoss()\n",
    ")"
   ]
  },
  {
   "cell_type": "code",
   "execution_count": 535,
   "id": "5dbf322a-3e3d-4cf5-9318-79b3e6819f0c",
   "metadata": {},
   "outputs": [
    {
     "name": "stdout",
     "output_type": "stream",
     "text": [
      "{'batch_loss': <tf.Tensor: shape=(), dtype=float32, numpy=7.626385>}\n",
      "{'batch_loss': <tf.Tensor: shape=(), dtype=float32, numpy=7.552377>}\n",
      "{'batch_loss': <tf.Tensor: shape=(), dtype=float32, numpy=7.5397534>}\n",
      "{'batch_loss': <tf.Tensor: shape=(), dtype=float32, numpy=7.3371882>}\n",
      "{'batch_loss': <tf.Tensor: shape=(), dtype=float32, numpy=6.8563337>}\n",
      "{'batch_loss': <tf.Tensor: shape=(), dtype=float32, numpy=5.3367457>}\n",
      "{'batch_loss': <tf.Tensor: shape=(), dtype=float32, numpy=5.06283>}\n",
      "{'batch_loss': <tf.Tensor: shape=(), dtype=float32, numpy=4.9342237>}\n",
      "{'batch_loss': <tf.Tensor: shape=(), dtype=float32, numpy=4.562311>}\n",
      "{'batch_loss': <tf.Tensor: shape=(), dtype=float32, numpy=4.2752576>}\n",
      "{'batch_loss': <tf.Tensor: shape=(), dtype=float32, numpy=4.2738514>}\n",
      "{'batch_loss': <tf.Tensor: shape=(), dtype=float32, numpy=4.1418653>}\n",
      "{'batch_loss': <tf.Tensor: shape=(), dtype=float32, numpy=4.286271>}\n",
      "{'batch_loss': <tf.Tensor: shape=(), dtype=float32, numpy=4.1198053>}\n",
      "{'batch_loss': <tf.Tensor: shape=(), dtype=float32, numpy=4.161444>}\n",
      "{'batch_loss': <tf.Tensor: shape=(), dtype=float32, numpy=4.030198>}\n",
      "{'batch_loss': <tf.Tensor: shape=(), dtype=float32, numpy=4.020437>}\n",
      "{'batch_loss': <tf.Tensor: shape=(), dtype=float32, numpy=3.8975854>}\n",
      "{'batch_loss': <tf.Tensor: shape=(), dtype=float32, numpy=3.8795433>}\n",
      "{'batch_loss': <tf.Tensor: shape=(), dtype=float32, numpy=3.8262491>}\n",
      "\n",
      "Wall time: 9.44 s\n"
     ]
    }
   ],
   "source": [
    "%%time\n",
    "for n in range(10):\n",
    "    print(test_trainer.train_step([example_input_batch, example_target_batch]))\n",
    "    print(test_trainer.train_step([example_input_batch_2, example_target_batch_2]))\n",
    "print()"
   ]
  },
  {
   "cell_type": "code",
   "execution_count": 536,
   "id": "3120c653-c77a-4ad5-ad28-009aa36fc23b",
   "metadata": {},
   "outputs": [
    {
     "name": "stdout",
     "output_type": "stream",
     "text": [
      "....................................................................................................\n"
     ]
    },
    {
     "data": {
      "text/plain": [
       "[<matplotlib.lines.Line2D at 0x21c0ff2fc50>]"
      ]
     },
     "execution_count": 536,
     "metadata": {},
     "output_type": "execute_result"
    },
    {
     "data": {
      "image/png": "[encoded data removed]",
      "text/plain": [
       "<Figure size 432x288 with 1 Axes>"
      ]
     },
     "metadata": {
      "needs_background": "light"
     },
     "output_type": "display_data"
    }
   ],
   "source": [
    "\"\"\"\n",
    "A good test of a new model is to see that it can overfit a single batch of input. Try it, the loss should quickly go to zero:\n",
    "\"\"\"\n",
    "\n",
    "test_train_losses = []\n",
    "for n in range(100):\n",
    "    print(\".\", end=\"\")\n",
    "    train_step_logs = test_trainer.train_step([example_input_batch, example_target_batch])\n",
    "    test_train_losses.append(train_step_logs[\"batch_loss\"].numpy())\n",
    "print()\n",
    "plt.plot(test_train_losses)"
   ]
  },
  {
   "cell_type": "markdown",
   "id": "f182c786-f00e-4422-8df4-9761b7c4d431",
   "metadata": {},
   "source": [
    "### Finally, train the model"
   ]
  },
  {
   "cell_type": "code",
   "execution_count": 540,
   "id": "27222c8d-e92d-4e5c-b081-a21b791d75bd",
   "metadata": {},
   "outputs": [],
   "source": [
    "class BatchLogs(tf.keras.callbacks.Callback):\n",
    "    def __init__(self, metric_key):\n",
    "        self.metric_key = metric_key\n",
    "        self.logs = []\n",
    "    \n",
    "    def on_train_batch_end(self, n, logs):\n",
    "        self.logs.append(logs[self.metric_key])"
   ]
  },
  {
   "cell_type": "code",
   "execution_count": 546,
   "id": "86f41258-fd63-47a7-bfdb-7b775cc6a0e9",
   "metadata": {},
   "outputs": [
    {
     "name": "stdout",
     "output_type": "stream",
     "text": [
      "Epoch 1/3\n",
      "2164/2164 [==============================] - 725s 334ms/step - batch_loss: 1.9673\n",
      "Epoch 2/3\n",
      "2164/2164 [==============================] - 712s 329ms/step - batch_loss: 1.0020\n",
      "Epoch 3/3\n",
      "2164/2164 [==============================] - 710s 328ms/step - batch_loss: 0.7851\n"
     ]
    },
    {
     "data": {
      "text/plain": [
       "<keras.callbacks.History at 0x21c0426f4a8>"
      ]
     },
     "execution_count": 546,
     "metadata": {},
     "output_type": "execute_result"
    }
   ],
   "source": [
    "translator_model_trainer = TrainTranslatorModel(\n",
    "    embedding_dim=embedding_dim,\n",
    "    layer_units=layer_units,\n",
    "    input_text_pre_processor=input_text_pre_processor,\n",
    "    output_text_pre_processor=output_text_pre_processor,\n",
    "    use_tf_function=True\n",
    ")\n",
    "\n",
    "translator_model_trainer.compile(\n",
    "    optimizer=tf.optimizers.Adam(),\n",
    "    loss=MaskedLoss()\n",
    ")\n",
    "\n",
    "batch_loss = BatchLogs(\"batch_loss\")\n",
    "\n",
    "translator_model_trainer.fit(\n",
    "    x=dataset,\n",
    "    epochs=3,\n",
    "    callbacks=[batch_loss]\n",
    ")"
   ]
  },
  {
   "cell_type": "code",
   "execution_count": 547,
   "id": "b2029455-e37f-4a48-b743-b2ab23f7118a",
   "metadata": {},
   "outputs": [
    {
     "data": {
      "text/plain": [
       "Text(0, 0.5, 'Cross entropy loss')"
      ]
     },
     "execution_count": 547,
     "metadata": {},
     "output_type": "execute_result"
    },
    {
     "data": {
      "image/png": "[encoded data removed]",
      "text/plain": [
       "<Figure size 432x288 with 1 Axes>"
      ]
     },
     "metadata": {
      "needs_background": "light"
     },
     "output_type": "display_data"
    }
   ],
   "source": [
    "plt.plot(batch_loss.logs)\n",
    "plt.ylim([0, 3])\n",
    "plt.xlabel('Batch #')\n",
    "plt.ylabel('Cross entropy loss')"
   ]
  },
  {
   "cell_type": "markdown",
   "id": "2f0488ad-05d8-4e31-9e02-98f6aa2adc1b",
   "metadata": {
    "tags": []
   },
   "source": [
    "# Translate\n",
    "\n",
    "Now that the model is trained, implement a function to execute the full text => text translation.\n",
    "\n",
    "For this the model needs to invert the text => token IDs mapping provided by the output_text_processor. \n",
    "It also needs to know the IDs for special tokens. This is all implemented in the constructor for the new class. \n",
    "The implementation of the actual translate method will follow.\n",
    "\n",
    "Overall this is similar to the training loop, except that the input to the decoder at each time step is a sample from the decoder's last prediction."
   ]
  },
  {
   "cell_type": "code",
   "execution_count": 693,
   "id": "eb212075-5bb1-4d49-9ab4-52dc449286d5",
   "metadata": {},
   "outputs": [],
   "source": [
    "class Translator(tf.Module):\n",
    "    def __init__(self, encoder, decoder, input_text_pre_processor, output_text_pre_processor):\n",
    "        self.encoder = encoder\n",
    "        self.decoder = decoder\n",
    "        self.input_text_pre_processor = input_text_pre_processor\n",
    "        self.output_text_pre_processor = output_text_pre_processor\n",
    "    \n",
    "        self.output_token_string_from_id = tf.keras.layers.StringLookup(\n",
    "            vocabulary=output_text_pre_processor.get_vocabulary(),\n",
    "            mask_token=\"\", # a.k.a. \"padding token\"\n",
    "            invert=True # when true maps integers (IDs) to strings (output tokens)\n",
    "        )\n",
    "        \n",
    "        # The actual post processed translation output should not generate padding, unknown, or start, so \n",
    "        # we will make a token mask here that masks all unwanted tokens from output.\n",
    "        # The mask will be used to mask the output logits of a prediction at each timestep.\n",
    "        output_token_id_from_string = tf.keras.layers.String = tf.keras.layers.StringLookup(\n",
    "            vocabulary=output_text_pre_processor.get_vocabulary(),\n",
    "            mask_token=\"\"\n",
    "        )\n",
    "        special_token_ids = output_token_id_from_string([\"\", \"[UNK]\", \"[START]\"]).numpy()\n",
    "        \n",
    "        token_mask = np.zeros((1, 1, output_token_id_from_string.vocabulary_size()), dtype=np.bool) # dims: batch, dec_idx, dec_vocab_size\n",
    "        token_mask[0, 0, np.array(special_token_ids)] = True\n",
    "        self.token_mask = token_mask\n",
    "        \n",
    "        self.start_token = output_token_id_from_string(tf.constant(\"[START]\"))\n",
    "        self.end_token = output_token_id_from_string(tf.constant(\"[END]\"))\n",
    "    \n",
    "    \"\"\"\n",
    "    1) Convert token IDs to text\n",
    "\n",
    "    The first method to implement is tokens_to_text which converts from token IDs to human readable text.\n",
    "    \"\"\"\n",
    "    def token_ids_to_text(self, result_token_ids):\n",
    "        shape_checker = ShapeChecker()\n",
    "        shape_checker(result_token_ids, (\"batch\", \"dec_idx\"))\n",
    "        \n",
    "        result_text_tokens = self.output_token_string_from_id(result_token_ids)\n",
    "        shape_checker(result_text_tokens, (\"batch\", \"dec_idx\"))\n",
    "        \n",
    "        result_text = tf.strings.reduce_join(result_text_tokens, axis=-1, separator=\" \")\n",
    "        shape_checker(result_text, (\"batch\"))\n",
    "        \n",
    "        result_text = tf.strings.strip(result_text)\n",
    "        shape_checker(result_text, (\"batch\"))\n",
    "        \n",
    "        return result_text\n",
    "    \n",
    "    \"\"\"\n",
    "    2) Sample from the decoder's predictions\n",
    "    \n",
    "    This function takes the decoder's logit outputs and samples token IDs from that distribution:\n",
    "    \"\"\"\n",
    "    def sample(self, logits, temp):\n",
    "        shape_checker = ShapeChecker()\n",
    "        \n",
    "        # dec_idx is usually of size 1 here since we will sample the next token at each timestep.\n",
    "        shape_checker(logits, (\"batch\", \"dec_idx\", \"dec_vocab_size\"))\n",
    "        \n",
    "        # Set the logits for all padding tokens to -inf, so they are never chosen.\n",
    "        shape_checker(self.token_mask, (\"batch\", \"dec_idx\", \"dec_vocab_size\"), broadcast=True)\n",
    "        logits = tf.where(self.token_mask, -np.inf, logits)\n",
    "        \n",
    "        if temp == 0.0:\n",
    "            new_tokens = tf.argmax(logits, axis=-1)\n",
    "        else:\n",
    "            logits = tf.squeeze(logits, axis=1)\n",
    "            new_tokens = tf.random.categorical(\n",
    "                logits=logits / temp,\n",
    "                num_samples=1\n",
    "            )\n",
    "        \n",
    "        shape_checker(new_tokens, (\"batch\", \"dec_idx\"))\n",
    "        return new_tokens\n",
    "    \n",
    "    \"\"\"\n",
    "    3) Implement the translation loop (final decoding strategy (strategy being something like random sampling or beam search, rand samp w/ temp used here))\n",
    "    \n",
    "    Here is a complete implementation of the text to text translation loop.\n",
    "    This implementation collects the results into python lists, before using tf.concat to join them into tensors.\n",
    "    This implementation statically unrolls the graph out to max_length iterations. This is okay with eager execution in python.\n",
    "    \"\"\"\n",
    "    def translate_unrolled(self,\n",
    "                           input_text, *,\n",
    "                           max_length=50,\n",
    "                           return_attention=True,\n",
    "                           temp=1.0):\n",
    "        batch_size = tf.shape(input_text)[0]\n",
    "        input_token_ids = self.input_text_pre_processor(input_text)\n",
    "        enc_output, enc_state = self.encoder(input_token_ids)\n",
    "        \n",
    "        dec_state = enc_state\n",
    "        new_tokens = tf.fill((batch_size, 1), self.start_token)\n",
    "        \n",
    "        result_tokens = []\n",
    "        attention = []\n",
    "        done = tf.zeros((batch_size, 1), dtype=tf.bool)\n",
    "        \n",
    "        for _ in range(max_length):\n",
    "            dec_input = DecoderInput(\n",
    "                new_tokens=new_tokens,\n",
    "                enc_output=enc_output,\n",
    "                mask=input_token_ids != 0\n",
    "            )\n",
    "            \n",
    "            dec_output, dec_state = self.decoder(dec_input, state=dec_state)\n",
    "            attention.append(dec_output.attention_weights)\n",
    "            \n",
    "            new_tokens = self.sample(dec_output.logits, temp)\n",
    "            \n",
    "            # If a seq produces an \"[END]\" token set that translation as done\n",
    "            done = done | (new_tokens == self.end_token)\n",
    "            \n",
    "            # Once a translation seq is done only 0-padding will be added.\n",
    "            new_tokens = tf.where(done, tf.constant(0, dtype=tf.int64), new_tokens)\n",
    "            \n",
    "            # Collect the generated tokens.\n",
    "            result_tokens.append(new_tokens)\n",
    "            \n",
    "            if tf.executing_eagerly() and tf.reduce_all(done):\n",
    "                break\n",
    "            \n",
    "        # Convert the list of generated token ids to a list of strings.\n",
    "        result_token_ids = tf.concat(result_tokens, axis=-1)\n",
    "        result_text = self.token_ids_to_text(result_token_ids)\n",
    "        \n",
    "        if return_attention:\n",
    "            attention_stack = tf.concat(attention, axis=1)\n",
    "            return {\"text\": result_text, \"attention\": attention_stack}\n",
    "        else:\n",
    "            return {\"text\": result_text}"
   ]
  },
  {
   "cell_type": "code",
   "execution_count": 694,
   "id": "afbc3127-f3b6-4a8e-ae4b-c14196b29cc8",
   "metadata": {},
   "outputs": [],
   "source": [
    "translator = Translator(\n",
    "    encoder=translator_model_trainer.encoder,\n",
    "    decoder=translator_model_trainer.decoder, \n",
    "    input_text_pre_processor=translator_model_trainer.input_text_pre_processor, \n",
    "    output_text_pre_processor=translator_model_trainer.output_text_pre_processor\n",
    ")"
   ]
  },
  {
   "cell_type": "code",
   "execution_count": 695,
   "id": "70f142b8-84ed-46c9-9224-c8baee9f28fd",
   "metadata": {},
   "outputs": [
    {
     "data": {
      "text/plain": [
       "<tf.Tensor: shape=(5,), dtype=string, numpy=\n",
       "array([b'bullet band', b'scandal tightly', b'threat traffic',\n",
       "       b'homesick soldiers', b'putting goats'], dtype=object)>"
      ]
     },
     "execution_count": 695,
     "metadata": {},
     "output_type": "execute_result"
    }
   ],
   "source": [
    "\"\"\"\n",
    "1) Testing Translator.token_ids_to_text()\n",
    "\"\"\"\n",
    "\n",
    "# Input some random token IDs and see what it generates:\n",
    "example_output_tokens = tf.random.uniform(\n",
    "    shape=[5,2],\n",
    "    minval=0,\n",
    "    dtype=tf.int64,\n",
    "    maxval=output_text_pre_processor.vocabulary_size()\n",
    ")\n",
    "translator.token_ids_to_text(example_output_tokens)"
   ]
  },
  {
   "cell_type": "code",
   "execution_count": 696,
   "id": "7df8e9f1-1a1c-4c0e-aab5-f96d38b3952b",
   "metadata": {},
   "outputs": [
    {
     "data": {
      "text/plain": [
       "<tf.Tensor: shape=(5, 1), dtype=int64, numpy=\n",
       "array([[2257],\n",
       "       [ 656],\n",
       "       [3398],\n",
       "       [1953],\n",
       "       [ 120]], dtype=int64)>"
      ]
     },
     "execution_count": 696,
     "metadata": {},
     "output_type": "execute_result"
    }
   ],
   "source": [
    "\"\"\"\n",
    "2) Testing Translator.sample()\n",
    "\"\"\"\n",
    "\n",
    "# Test run this function on some random inputs:\n",
    "example_logits = tf.random.normal([5, 1, output_text_pre_processor.vocabulary_size()])\n",
    "example_output_tokens = translator.sample(example_logits, temp=1)\n",
    "example_output_tokens"
   ]
  },
  {
   "cell_type": "code",
   "execution_count": 697,
   "id": "c066f1cf-9e5d-4e70-a539-6b8505d2cff3",
   "metadata": {},
   "outputs": [
    {
     "name": "stdout",
     "output_type": "stream",
     "text": [
      "b'im very cold here .'\n",
      "b'this is my life .'\n",
      "Wall time: 107 ms\n"
     ]
    }
   ],
   "source": [
    "%%time\n",
    "\n",
    "\"\"\"\n",
    "3) Testing Translator.translate_unrolled()\n",
    "\"\"\"\n",
    "\n",
    "# Run translator on a simple input:\n",
    "input_text = tf.constant([\n",
    "    'hace mucho frio aqui.', # \"It's really cold here.\"\n",
    "    'Esta es mi vida.', # \"This is my life.\"\"\n",
    "])\n",
    "\n",
    "result = translator.translate_unrolled(input_text=input_text)\n",
    "print(result[\"text\"][0].numpy())\n",
    "print(result[\"text\"][1].numpy())"
   ]
  },
  {
   "cell_type": "code",
   "execution_count": 647,
   "id": "09990c28-44e9-4775-bf8a-4906f0bb4eed",
   "metadata": {},
   "outputs": [],
   "source": [
    "\"\"\"\n",
    "If you want to export this model you'll need to wrap this method in a tf.function. \n",
    "\n",
    "This basic implementation has a few issues if you try to do that:\n",
    "- The resulting graphs are very large and take a few seconds to build, save or load.\n",
    "- You can't break from a statically unrolled loop (since we are using standard python range() op), so it will always run max_length iterations,\n",
    "  even if all the outputs are done. But even then it's marginally faster than eager execution.\n",
    "\"\"\"\n",
    "\n",
    "@tf.function(input_signature=[tf.TensorSpec(dtype=tf.string, shape=[None])])\n",
    "def tf_translate_unrolled(self, input_text):\n",
    "    return self.translate_unrolled(input_text)\n",
    "Translator.tf_translate_unrolled = tf_translate_unrolled"
   ]
  },
  {
   "cell_type": "code",
   "execution_count": 649,
   "id": "0f30cb15-ff67-422c-9f05-82261994dba6",
   "metadata": {},
   "outputs": [
    {
     "name": "stdout",
     "output_type": "stream",
     "text": [
      "Wall time: 10.8 s\n"
     ]
    }
   ],
   "source": [
    "%%time\n",
    "# Run the tf.function once to compile it:\n",
    "result = translator.tf_translate_unrolled(\n",
    "    input_text = input_text)"
   ]
  },
  {
   "cell_type": "code",
   "execution_count": 659,
   "id": "33d06975-c5eb-4e27-b110-80bdcf6ffed4",
   "metadata": {},
   "outputs": [
    {
     "name": "stdout",
     "output_type": "stream",
     "text": [
      "its a great cold here .\n",
      "this is my life .\n",
      "\n",
      "Wall time: 121 ms\n"
     ]
    }
   ],
   "source": [
    "%%time\n",
    "result = translator.tf_translate_unrolled(\n",
    "    input_text = input_text)\n",
    "print(result['text'][0].numpy().decode())\n",
    "print(result['text'][1].numpy().decode())\n",
    "print()"
   ]
  },
  {
   "cell_type": "code",
   "execution_count": 698,
   "id": "ebc1e33c-7a20-426a-ada0-36d2d668b99d",
   "metadata": {},
   "outputs": [],
   "source": [
    "\"\"\"\n",
    "[Optional] Use a symbolic loop\n",
    "\n",
    "The initial implementation used python lists to collect the outputs. This uses tf.range as the loop iterator, allowing tf.autograph to convert the loop. \n",
    "The biggest change in this implementation is the use of tf.TensorArray instead of python list to accumulate tensors. tf.TensorArray is required to collect a variable number of tensors in graph mode.\n",
    "\n",
    "With eager execution this implementation performs on par with the original.\n",
    "\n",
    "...\n",
    "\n",
    "But when you wrap it in a tf.function you'll notice two differences:\n",
    "1) Graph creation is much faster (~10x), since it doesn't create max_iterations copies of the model.\n",
    "2) Second: The compiled function is much faster on small inputs (5x on this example), because it can break out of the loop.\n",
    "\"\"\"\n",
    "\n",
    "def translate_symbolic(self,\n",
    "                       input_text,\n",
    "                       *,\n",
    "                       max_length=50,\n",
    "                       return_attention=True,\n",
    "                       temperature=1.0):\n",
    "    shape_checker = ShapeChecker()\n",
    "    shape_checker(input_text, ('batch',))\n",
    "\n",
    "    batch_size = tf.shape(input_text)[0]\n",
    "\n",
    "    # Encode the input\n",
    "    input_tokens = self.input_text_pre_processor(input_text)\n",
    "    shape_checker(input_tokens, ('batch', 's'))\n",
    "\n",
    "    enc_output, enc_state = self.encoder(input_tokens)\n",
    "    shape_checker(enc_output, ('batch', 's', 'enc_units'))\n",
    "    shape_checker(enc_state, ('batch', 'enc_units'))\n",
    "\n",
    "    # Initialize the decoder\n",
    "    dec_state = enc_state\n",
    "    new_tokens = tf.fill([batch_size, 1], self.start_token)\n",
    "    shape_checker(new_tokens, ('batch', 't1'))\n",
    "\n",
    "    # Initialize the accumulators\n",
    "    result_tokens = tf.TensorArray(tf.int64, size=1, dynamic_size=True)\n",
    "    attention = tf.TensorArray(tf.float32, size=1, dynamic_size=True)\n",
    "    done = tf.zeros([batch_size, 1], dtype=tf.bool)\n",
    "    shape_checker(done, ('batch', 't1'))\n",
    "\n",
    "    for t in tf.range(max_length):\n",
    "        dec_input = DecoderInput(\n",
    "            new_tokens=new_tokens, enc_output=enc_output, mask=(input_tokens != 0))\n",
    "\n",
    "        dec_result, dec_state = self.decoder(dec_input, state=dec_state)\n",
    "\n",
    "        shape_checker(dec_result.attention_weights, ('batch', 't1', 's'))\n",
    "        attention = attention.write(t, dec_result.attention_weights)\n",
    "\n",
    "        new_tokens = self.sample(dec_result.logits, temperature)\n",
    "        shape_checker(dec_result.logits, ('batch', 't1', 'vocab'))\n",
    "        shape_checker(new_tokens, ('batch', 't1'))\n",
    "\n",
    "        # If a sequence produces an `end_token`, set it `done`\n",
    "        done = done | (new_tokens == self.end_token)\n",
    "        # Once a sequence is done it only produces 0-padding.\n",
    "        new_tokens = tf.where(done, tf.constant(0, dtype=tf.int64), new_tokens)\n",
    "\n",
    "        # Collect the generated tokens\n",
    "        result_tokens = result_tokens.write(t, new_tokens)\n",
    "\n",
    "        if tf.reduce_all(done):\n",
    "            break\n",
    "\n",
    "    # Convert the list of generated token ids to a list of strings.\n",
    "    result_tokens = result_tokens.stack()\n",
    "    shape_checker(result_tokens, ('t', 'batch', 't0'))\n",
    "    result_tokens = tf.squeeze(result_tokens, -1)\n",
    "    result_tokens = tf.transpose(result_tokens, [1, 0])\n",
    "    shape_checker(result_tokens, ('batch', 't'))\n",
    "\n",
    "    result_text = self.token_ids_to_text(result_tokens)\n",
    "    shape_checker(result_text, ('batch',))\n",
    "\n",
    "    if return_attention:\n",
    "        attention_stack = attention.stack()\n",
    "        shape_checker(attention_stack, ('t', 'batch', 't1', 's'))\n",
    "\n",
    "        attention_stack = tf.squeeze(attention_stack, 2)\n",
    "        shape_checker(attention_stack, ('t', 'batch', 's'))\n",
    "\n",
    "        attention_stack = tf.transpose(attention_stack, [1, 0, 2])\n",
    "        shape_checker(attention_stack, ('batch', 't', 's'))\n",
    "\n",
    "        return {'text': result_text, 'attention': attention_stack}\n",
    "    else:\n",
    "        return {'text': result_text}\n",
    "    \n",
    "Translator.translate_symbolic = translate_symbolic\n",
    "\n",
    "@tf.function(input_signature=[tf.TensorSpec(dtype=tf.string, shape=[None])])\n",
    "def tf_translate_symbolic(self, input_text):\n",
    "    return self.translate_symbolic(input_text)\n",
    "\n",
    "Translator.tf_translate_symbolic = tf_translate_symbolic"
   ]
  },
  {
   "cell_type": "code",
   "execution_count": 699,
   "id": "78b21131-71d8-4aa3-b5b0-b86a311d7cc3",
   "metadata": {},
   "outputs": [
    {
     "name": "stdout",
     "output_type": "stream",
     "text": [
      "Wall time: 1.02 s\n"
     ]
    }
   ],
   "source": [
    "%%time\n",
    "# compile first\n",
    "result = translator.tf_translate_symbolic(input_text = input_text)"
   ]
  },
  {
   "cell_type": "code",
   "execution_count": 701,
   "id": "769dd49a-b217-477f-92e0-aafa0c33c62b",
   "metadata": {},
   "outputs": [
    {
     "name": "stdout",
     "output_type": "stream",
     "text": [
      "im very cold .\n",
      "this is my life .\n",
      "\n",
      "Wall time: 23 ms\n"
     ]
    }
   ],
   "source": [
    "%%time\n",
    "result = translator.tf_translate_symbolic(input_text = input_text)\n",
    "\n",
    "print(result['text'][0].numpy().decode())\n",
    "print(result['text'][1].numpy().decode())\n",
    "print()"
   ]
  },
  {
   "cell_type": "code",
   "execution_count": 702,
   "id": "284b70d3-a905-4b8f-91b8-278484df0fe1",
   "metadata": {},
   "outputs": [
    {
     "name": "stdout",
     "output_type": "stream",
     "text": [
      "[0.99999994 1.         1.         1.         1.         1.        ]\n"
     ]
    }
   ],
   "source": [
    "\"\"\"\n",
    "Visualize the process.\n",
    "\n",
    "The attention weights returned by the translate method show where the model was \"looking\" when it generated each output token.\n",
    "So the sum of the attention over the input should return all ones:\n",
    "\"\"\"\n",
    "\n",
    "a = result[\"attention\"][0]\n",
    "print(np.sum(a, axis=-1))"
   ]
  },
  {
   "cell_type": "code",
   "execution_count": 703,
   "id": "0f2eb056-d11a-46c1-98da-1a26da4dfe9e",
   "metadata": {},
   "outputs": [
    {
     "data": {
      "text/plain": [
       "<BarContainer object of 7 artists>"
      ]
     },
     "execution_count": 703,
     "metadata": {},
     "output_type": "execute_result"
    },
    {
     "data": {
      "image/png": "[encoded data removed]",
      "text/plain": [
       "<Figure size 432x288 with 1 Axes>"
      ]
     },
     "metadata": {
      "needs_background": "light"
     },
     "output_type": "display_data"
    }
   ],
   "source": [
    "# Here is the attention distribution for the first output step of the first example. \n",
    "# Note how the attention is now much more focused than it was for the untrained model:\n",
    "plt.bar(range(len(a[0, :])), a[0, :])"
   ]
  },
  {
   "cell_type": "code",
   "execution_count": 704,
   "id": "f7a03c9e-1baf-4e08-9968-90e8964d46fa",
   "metadata": {},
   "outputs": [
    {
     "data": {
      "text/plain": [
       "<matplotlib.image.AxesImage at 0x21c11751400>"
      ]
     },
     "execution_count": 704,
     "metadata": {},
     "output_type": "execute_result"
    },
    {
     "data": {
      "image/png": "[encoded data removed]",
      "text/plain": [
       "<Figure size 432x288 with 1 Axes>"
      ]
     },
     "metadata": {
      "needs_background": "light"
     },
     "output_type": "display_data"
    }
   ],
   "source": [
    "# Since there is some rough (soft-)alignment between the input and output words, you expect the attention to be focused near the diagonal:\n",
    "plt.imshow(np.array(a), vmin=0.0)"
   ]
  },
  {
   "cell_type": "code",
   "execution_count": 705,
   "id": "e4db65f5-994a-4eb9-9301-1006bccabb73",
   "metadata": {},
   "outputs": [],
   "source": [
    "\"\"\"\n",
    "Labeled attention plots\n",
    "\"\"\"\n",
    "\n",
    "def plot_attention(attention, sentence, predicted_sentence):\n",
    "    sentence = tf_lower_and_split_punct(sentence).numpy().decode().split()\n",
    "    predicted_sentence = predicted_sentence.numpy().decode().split() + ['[END]']\n",
    "    fig = plt.figure(figsize=(10, 10))\n",
    "    ax = fig.add_subplot(1, 1, 1)\n",
    "\n",
    "    attention = attention[:len(predicted_sentence), :len(sentence)]\n",
    "\n",
    "    ax.matshow(attention, cmap='viridis', vmin=0.0)\n",
    "\n",
    "    fontdict = {'fontsize': 14}\n",
    "\n",
    "    ax.set_xticklabels([''] + sentence, fontdict=fontdict, rotation=90)\n",
    "    ax.set_yticklabels([''] + predicted_sentence, fontdict=fontdict)\n",
    "\n",
    "    ax.xaxis.set_major_locator(ticker.MultipleLocator(1))\n",
    "    ax.yaxis.set_major_locator(ticker.MultipleLocator(1))\n",
    "\n",
    "    ax.set_xlabel('Input text')\n",
    "    ax.set_ylabel('Output text')\n",
    "    plt.suptitle('Attention weights')"
   ]
  },
  {
   "cell_type": "code",
   "execution_count": 706,
   "id": "e37c9568-f61e-4311-aa4f-aa62250bfa42",
   "metadata": {},
   "outputs": [
    {
     "name": "stderr",
     "output_type": "stream",
     "text": [
      "c:\\python\\venvs\\ml_code_practice\\lib\\site-packages\\ipykernel_launcher.py:17: UserWarning: FixedFormatter should only be used together with FixedLocator\n",
      "c:\\python\\venvs\\ml_code_practice\\lib\\site-packages\\ipykernel_launcher.py:18: UserWarning: FixedFormatter should only be used together with FixedLocator\n"
     ]
    },
    {
     "data": {
      "image/png": "[encoded data removed]",
      "text/plain": [
       "<Figure size 720x720 with 1 Axes>"
      ]
     },
     "metadata": {
      "needs_background": "light"
     },
     "output_type": "display_data"
    }
   ],
   "source": [
    "i=0\n",
    "plot_attention(result['attention'][i], input_text[i], result['text'][i])"
   ]
  },
  {
   "cell_type": "code",
   "execution_count": 708,
   "id": "a238c800-9502-43e7-86bf-842e3bcac510",
   "metadata": {},
   "outputs": [
    {
     "name": "stdout",
     "output_type": "stream",
     "text": [
      "this is my life .\n",
      "are you still at home ?\n",
      "lets try to find out .\n",
      "\n",
      "Wall time: 28 ms\n"
     ]
    }
   ],
   "source": [
    "%%time\n",
    "\n",
    "\"\"\"\n",
    "Translate a few more sentences and plot them:\n",
    "\"\"\"\n",
    "\n",
    "three_input_text = tf.constant([\n",
    "    # This is my life.\n",
    "    'Esta es mi vida.',\n",
    "    # Are they still home?\n",
    "    '¿Todavía están en casa?',\n",
    "    # Try to find out.'\n",
    "    'Tratar de descubrir.',\n",
    "])\n",
    "\n",
    "result = translator.tf_translate_symbolic(three_input_text)\n",
    "\n",
    "for tr in result['text']:\n",
    "    print(tr.numpy().decode())\n",
    "\n",
    "print()"
   ]
  },
  {
   "cell_type": "code",
   "execution_count": 710,
   "id": "28a85c63-16cc-4d86-8b15-ee5033c7fc91",
   "metadata": {},
   "outputs": [
    {
     "name": "stderr",
     "output_type": "stream",
     "text": [
      "c:\\python\\venvs\\ml_code_practice\\lib\\site-packages\\ipykernel_launcher.py:17: UserWarning: FixedFormatter should only be used together with FixedLocator\n",
      "c:\\python\\venvs\\ml_code_practice\\lib\\site-packages\\ipykernel_launcher.py:18: UserWarning: FixedFormatter should only be used together with FixedLocator\n"
     ]
    },
    {
     "data": {
      "image/png": "[encoded data removed]",
      "text/plain": [
       "<Figure size 720x720 with 1 Axes>"
      ]
     },
     "metadata": {
      "needs_background": "light"
     },
     "output_type": "display_data"
    }
   ],
   "source": [
    "i = 0\n",
    "plot_attention(result['attention'][i], three_input_text[i], result['text'][i])"
   ]
  },
  {
   "cell_type": "code",
   "execution_count": 711,
   "id": "b7c707a4-1ccb-4c9d-9912-7fa7e045f363",
   "metadata": {},
   "outputs": [
    {
     "name": "stderr",
     "output_type": "stream",
     "text": [
      "c:\\python\\venvs\\ml_code_practice\\lib\\site-packages\\ipykernel_launcher.py:17: UserWarning: FixedFormatter should only be used together with FixedLocator\n",
      "c:\\python\\venvs\\ml_code_practice\\lib\\site-packages\\ipykernel_launcher.py:18: UserWarning: FixedFormatter should only be used together with FixedLocator\n"
     ]
    },
    {
     "data": {
      "image/png": "[encoded data removed]",
      "text/plain": [
       "<Figure size 720x720 with 1 Axes>"
      ]
     },
     "metadata": {
      "needs_background": "light"
     },
     "output_type": "display_data"
    }
   ],
   "source": [
    "i = 1\n",
    "plot_attention(result['attention'][i], three_input_text[i], result['text'][i])"
   ]
  },
  {
   "cell_type": "code",
   "execution_count": 712,
   "id": "b58be128-521e-4b96-a022-4a420229ec57",
   "metadata": {},
   "outputs": [
    {
     "name": "stderr",
     "output_type": "stream",
     "text": [
      "c:\\python\\venvs\\ml_code_practice\\lib\\site-packages\\ipykernel_launcher.py:17: UserWarning: FixedFormatter should only be used together with FixedLocator\n",
      "c:\\python\\venvs\\ml_code_practice\\lib\\site-packages\\ipykernel_launcher.py:18: UserWarning: FixedFormatter should only be used together with FixedLocator\n"
     ]
    },
    {
     "data": {
      "image/png": "[encoded data removed]",
      "text/plain": [
       "<Figure size 720x720 with 1 Axes>"
      ]
     },
     "metadata": {
      "needs_background": "light"
     },
     "output_type": "display_data"
    }
   ],
   "source": [
    "i = 2\n",
    "plot_attention(result['attention'][i], three_input_text[i], result['text'][i])"
   ]
  },
  {
   "cell_type": "markdown",
   "id": "218004c0-181f-4ba0-9b05-d15b4a7f14b3",
   "metadata": {},
   "source": [
    "# Drawbacks\n",
    "\n",
    "The short sentences often work well, but if the input is too long the model literally loses focus and stops providing reasonable predictions. There are two main reasons for this:\n",
    "1) The model was trained with teacher-forcing feeding the correct token at each step, regardless of the model's predictions. The model could be made more robust if it were sometimes fed its own predictions.\n",
    "2) The model only has access to its previous output through the RNN state. If the RNN state gets corrupted, there's no way for the model to recover. Transformers solve this by using self-attention in the encoder and decoder."
   ]
  },
  {
   "cell_type": "code",
   "execution_count": 722,
   "id": "b1c4a1e9-16c6-4ed6-8794-929302121692",
   "metadata": {},
   "outputs": [
    {
     "name": "stdout",
     "output_type": "stream",
     "text": [
      "Expected output:\n",
      "----------------------------------------------\n",
      "One day, I woke up to find that God had put hair on my face. I shaved\n",
      "it off. The next day, I found that God had put it back on my face, so\n",
      "I shaved it off again. On the third day, when I found that God had put\n",
      "hair back on my face again, I decided to let God have his way. That's\n",
      "why I have a beard.\n",
      "\n"
     ]
    },
    {
     "name": "stderr",
     "output_type": "stream",
     "text": [
      "c:\\python\\venvs\\ml_code_practice\\lib\\site-packages\\ipykernel_launcher.py:17: UserWarning: FixedFormatter should only be used together with FixedLocator\n",
      "c:\\python\\venvs\\ml_code_practice\\lib\\site-packages\\ipykernel_launcher.py:18: UserWarning: FixedFormatter should only be used together with FixedLocator\n"
     ]
    },
    {
     "data": {
      "image/png": "[encoded data removed]",
      "text/plain": [
       "<Figure size 720x720 with 1 Axes>"
      ]
     },
     "metadata": {
      "needs_background": "light"
     },
     "output_type": "display_data"
    }
   ],
   "source": [
    "long_input_text = tf.constant([inp[-1]])\n",
    "\n",
    "import textwrap\n",
    "print('Expected output:\\n----------------------------------------------\\n', \n",
    "      '\\n'.join(textwrap.wrap(targ[-1])), \n",
    "      \"\\n\", sep=\"\")\n",
    "\n",
    "result = translator.tf_translate_symbolic(long_input_text)\n",
    "\n",
    "i = 0\n",
    "plot_attention(result['attention'][i], long_input_text[i], result['text'][i])\n",
    "_ = plt.suptitle('This never works')"
   ]
  },
  {
   "cell_type": "markdown",
   "id": "debdb85b-f74e-4654-906d-3896580575d2",
   "metadata": {},
   "source": [
    "# Export\n",
    "\n",
    "Once you have a model you're satisfied with you might want to export it as a tf.saved_model for use outside of this python program that created it.\n",
    "\n",
    "Since the model is a subclass of tf.Module (through keras.Model), and all the functionality for export is compiled in a tf.function the model should export cleanly with tf.saved_model.save:\n",
    "\n",
    "Now that the function has been traced it can be exported using saved_model.save:"
   ]
  },
  {
   "cell_type": "code",
   "execution_count": 728,
   "id": "40c3f868-272f-4253-9302-3ab5c2172495",
   "metadata": {},
   "outputs": [
    {
     "name": "stderr",
     "output_type": "stream",
     "text": [
      "WARNING:absl:Found untraced functions such as encoder_68_layer_call_and_return_conditional_losses, encoder_68_layer_call_fn, decoder_60_layer_call_and_return_conditional_losses, decoder_60_layer_call_fn, embedding_128_layer_call_and_return_conditional_losses while saving (showing 5 of 60). These functions will not be directly callable after loading.\n"
     ]
    },
    {
     "name": "stdout",
     "output_type": "stream",
     "text": [
      "INFO:tensorflow:Assets written to: translator.model\\assets\n"
     ]
    },
    {
     "name": "stderr",
     "output_type": "stream",
     "text": [
      "INFO:tensorflow:Assets written to: translator.model\\assets\n"
     ]
    }
   ],
   "source": [
    "model_name = \"translator.model\"\n",
    "tf.saved_model.save(translator, \n",
    "                    model_name,\n",
    "                    signatures={\"serving_default\": translator.tf_translate_symbolic})"
   ]
  },
  {
   "cell_type": "code",
   "execution_count": 731,
   "id": "3ac6c45e-6d5b-4266-b91c-7fb188b77ca8",
   "metadata": {},
   "outputs": [],
   "source": [
    "reloaded_translator = tf.saved_model.load(model_name)"
   ]
  },
  {
   "cell_type": "code",
   "execution_count": 732,
   "id": "54c0b243-5954-4f17-9262-e010737dc4ce",
   "metadata": {},
   "outputs": [
    {
     "name": "stdout",
     "output_type": "stream",
     "text": [
      "this is my life .\n",
      "are you still at home ?\n",
      "try to find out .\n",
      "\n",
      "Wall time: 255 ms\n"
     ]
    }
   ],
   "source": [
    "%%time\n",
    "result = reloaded_translator.tf_translate_symbolic(three_input_text)\n",
    "\n",
    "for tr in result['text']:\n",
    "    print(tr.numpy().decode())\n",
    "\n",
    "print()"
   ]
  },
  {
   "cell_type": "code",
   "execution_count": null,
   "id": "a8277888-071f-4749-a441-3bfe2fecc39e",
   "metadata": {},
   "outputs": [],
   "source": []
  }
 ],
 "metadata": {
  "kernelspec": {
   "display_name": "Python 3",
   "language": "python",
   "name": "python3"
  },
  "language_info": {
   "codemirror_mode": {
    "name": "ipython",
    "version": 3
   },
   "file_extension": ".py",
   "mimetype": "text/x-python",
   "name": "python",
   "nbconvert_exporter": "python",
   "pygments_lexer": "ipython3",
   "version": "3.6.8"
  }
 },
 "nbformat": 4,
 "nbformat_minor": 5
}
